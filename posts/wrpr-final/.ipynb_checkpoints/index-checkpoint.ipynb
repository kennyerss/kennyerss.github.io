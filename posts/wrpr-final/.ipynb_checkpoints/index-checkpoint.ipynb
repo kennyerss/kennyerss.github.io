{
 "cells": [
  {
   "cell_type": "raw",
   "id": "319333ef-f93e-4a6f-a8a5-0b49fbf3fecd",
   "metadata": {},
   "source": [
    "---\n",
    "title: \"Grammar Lesson Plan: Modifiers\"\n",
    "author: Kent Canonigo\n",
    "date: '2023-05-10'\n",
    "image: \"modifiers.jpg\"\n",
    "description: \"A curated lesson plan to teach future WRPR students about 'Modifiers': adjectival and adverbial phrases and clauses, participial phrases (vs gerunds), and relative clauses (that vs. which).\"\n",
    "format:\n",
    "  html:\n",
    "    toc: true\n",
    "    toc-depth: 2\n",
    "    toc-title: Table of Contents\n",
    "    echo: false\n",
    "---"
   ]
  },
  {
   "cell_type": "markdown",
   "id": "377af028-7d66-4c47-b98f-62a56363d4e5",
   "metadata": {},
   "source": [
    "<!--CSS-->\n",
    "<style>\n",
    ".highlight-box {\n",
    "  background-color: #ffffcc;\n",
    "  border: 1px #cccccc;\n",
    "  padding: 0px;\n",
    "  margin: 0px;\n",
    "  display: flex;\n",
    "  justify-content: center;\n",
    "  align-items: center;\n",
    "}\n",
    "    \n",
    ".your-turn {\n",
    "  background-color: #ff9999;\n",
    "  border: 1px #cccccc;\n",
    "  padding: 10px;\n",
    "  margin: 0px;\n",
    "  display: flex;\n",
    "  justify-content: center;\n",
    "  align-items: center;\n",
    "}\n",
    "    \n",
    ".note {\n",
    "    color: red\n",
    "}\n",
    "    \n",
    "</style>"
   ]
  },
  {
   "cell_type": "code",
   "execution_count": 1,
   "id": "d452603d-070c-4504-8ed1-527ae0c23aad",
   "metadata": {},
   "outputs": [],
   "source": [
    "import base64\n",
    "from IPython.display import Image, display\n",
    "import matplotlib.pyplot as plt\n",
    "\n",
    "def mm(graph):\n",
    "  graphbytes = graph.encode(\"ascii\")\n",
    "  base64_bytes = base64.b64encode(graphbytes)\n",
    "  base64_string = base64_bytes.decode(\"ascii\")\n",
    "  display(Image(url=\"https://mermaid.ink/img/\" + base64_string))"
   ]
  },
  {
   "cell_type": "code",
   "execution_count": 2,
   "id": "9041813e-9192-4356-bec9-87cc439ed72e",
   "metadata": {},
   "outputs": [],
   "source": [
    "# '''\n",
    "# HTML MARKDOWN CHEAT-SHEET\n",
    "\n",
    "# collapsing block:\n",
    "\n",
    "# <details><summary>Code example</summary><p>\n",
    "#   ...\n",
    "# </p></details>\n",
    "\n",
    "# nested collapsing block:\n",
    "\n",
    "# <details><summary>Hello</summary><blockquote>\n",
    "#   <details><summary>World</summary><blockquote>\n",
    "#     :smile:\n",
    "#   </blockquote></details>\n",
    "# </blockquote></details>\n",
    "\n",
    "# FLOWCHARTS\n",
    "# ```mermaid\n",
    "# graph LR\n",
    "# A[Hard edge] -->B(Round edge)\n",
    "#     B --> C{Decision}\n",
    "#     C -->|One| D[Result one]\n",
    "#     C -->|Two| E[Result two]\n",
    "# ```"
   ]
  },
  {
   "cell_type": "markdown",
   "id": "6292fe7e-59a2-446b-bf03-f5d3465868c6",
   "metadata": {
    "tags": []
   },
   "source": [
    "# Modifiers\n",
    "\n"
   ]
  },
  {
   "cell_type": "markdown",
   "id": "705210e1-9d64-4717-b1ec-1fea2d89ddbc",
   "metadata": {},
   "source": [
    "<details><summary>EXERCISES HERE</summary>\n",
    "    <p>\n",
    "      ...\n",
    "    </p>\n",
    "</details>\n",
    "\n",
    "<details><summary>ANSWERS HERE</summary>\n",
    "    <p>\n",
    "      ...\n",
    "    </p>\n",
    "</details>"
   ]
  },
  {
   "cell_type": "markdown",
   "id": "0e4350a3-da2c-499b-91c2-ee745d1f37f3",
   "metadata": {},
   "source": [
    "## Dangling Modifiers"
   ]
  },
  {
   "cell_type": "code",
   "execution_count": 3,
   "id": "a29c066d-f7d3-4647-95b5-27e2d5f661a9",
   "metadata": {},
   "outputs": [],
   "source": [
    "\n",
    "# mm(\"\"\"\n",
    "# graph LR;\n",
    "# A[Hard edge] -->B(Round edge)\n",
    "#     B --> C{Decision}\n",
    "#     C -->|One| D[Result one]\n",
    "#     C -->|Two| E[Result two]\n",
    "# \"\"\")\n"
   ]
  },
  {
   "cell_type": "code",
   "execution_count": null,
   "id": "abb1d9e8-1bb6-4c8c-b825-d5e9cd692392",
   "metadata": {},
   "outputs": [],
   "source": []
  },
  {
   "cell_type": "markdown",
   "id": "e0be1006-2eb3-4401-b729-16567bce57e3",
   "metadata": {},
   "source": [
    "# Relative Clauses "
   ]
  },
  {
   "cell_type": "markdown",
   "id": "7fdebb3a-f4c5-4a42-a204-ceca940ad2e7",
   "metadata": {},
   "source": [
    "Relative clauses are important because they can provide necessary or additional information about nouns/noun phrases. Additionally, they connect some previous information already known to the reader by the use of **relative pronouns** such as **who, whom, whose, which,** and **that**. Shown below is a table that provides the functionalities of the relative pronouns. [^1]"
   ]
  },
  {
   "cell_type": "markdown",
   "id": "a12429b7-75fb-4d91-8c32-cbfabde078d6",
   "metadata": {},
   "source": [
    "| Pronoun | Stands For | Uses |\n",
    "|---|---|---|\n",
    "| who | people | substitutes for subject nouns/pronouns (he, she, we, they) |\n",
    "| whom | people | substitutes for object nouns/pronouns (him, her, us, them) |\n",
    "| whose | people or things | substitutes for possessive nouns/pronouns (his, hers, ours, theirs) |\n",
    "| that | people or things | can be used for either subject or object <br> <br> can only be used in restrictive relative clauses |\n",
    "| which | things | can be used for either subject or object<br> <br> can be used in non-restrictive relative clauses <br> <br> can also be used in restrictive clauses, though some people don't like this use|\n",
    "\n"
   ]
  },
  {
   "cell_type": "markdown",
   "id": "75c4c7db-6b9d-4709-a5b1-a6dbd423aebc",
   "metadata": {},
   "source": [
    "Here's a video about relative clauses as explained by KhanAcademy! [^2]"
   ]
  },
  {
   "cell_type": "markdown",
   "id": "7a24d3c2-dbf8-4659-ad8a-140fa33f800f",
   "metadata": {},
   "source": [
    "[![](khan.jpg)](https://www.youtube.com/watch?v=fm7QEiEk83o&t=38s)"
   ]
  },
  {
   "cell_type": "markdown",
   "id": "beb78c9c-fc0a-4f5e-86d8-ff9766f45d61",
   "metadata": {},
   "source": [
    "There are two *types* of relative clauses: **restrictive** and **nonrestrictive**. The section below describes the differences between the two relative clauses. "
   ]
  },
  {
   "cell_type": "markdown",
   "id": "259e4d02-36b5-44a3-8db7-289969eb3756",
   "metadata": {},
   "source": [
    "### Restrictive vs Nonrestrictive Clauses"
   ]
  },
  {
   "cell_type": "markdown",
   "id": "29878982-a07a-42cd-bfe5-43937de860d3",
   "metadata": {
    "tags": []
   },
   "source": [
    "#### Restrictive Clauses\n",
    "\n",
    "**Restrictive clauses** provide **necessary information** for a noun to be \"complete\". In this case, \"complete\" is defined as the noun needing the information for it to be fully defined. Restrictive relative clauses are also known as *essential clauses*.\n",
    "<br>"
   ]
  },
  {
   "cell_type": "markdown",
   "id": "b44fc481-0449-4f84-88fa-c7f68177fb57",
   "metadata": {},
   "source": [
    "<div class=\"highlight-box\">\n",
    "<strong>NOTE:</strong>\n",
    "Restrictive clauses do not require commas and should not be separated from the rest of the sentence.\n",
    "</div>\n",
    "\n",
    "<br>"
   ]
  },
  {
   "cell_type": "markdown",
   "id": "1e9ee8de-1036-4a25-acef-4d54814244a2",
   "metadata": {
    "tags": []
   },
   "source": [
    "Here are a few examples of restrictive clauses: [^3] <br>\n",
    "\n",
    "- The student **who sits in the back of the room** asks a lot of questions.\n",
    "- The results **that I obtained may** invoke positive social change. \n",
    "- The journalist **whose story I read yesterday** has won prizes for her work.\n",
    "\n",
    "Try phrasing the sentences without the restrictive clauses. Do they still make sense? \n",
    "\n",
    "For example, in the first student, if we removed the restrictive clause, the sentence would then be: **The student asks a lot of questions.** This sentence is now incomplete because we don't get the context of *which* student asked the question. Hence, the restrictive clause in that sentence **who sits in the back of the room** provides readers more information about *which* of the students in the classroom asked a question."
   ]
  },
  {
   "cell_type": "markdown",
   "id": "77c3acfd-4af0-423c-b02e-d745ebfeea5d",
   "metadata": {},
   "source": [
    "**<span class = \"note\"> <strong>YOUR TURN:</strong></span>** **Briefly identify the restrictive clauses in the sentences below:** <br>\n",
    "\n",
    "- The man who lives next door is a doctor.\n",
    "- The dog that ate my homework is a poodle. \n",
    "- The car that was stolen last night was a red Honda Civic.\n"
   ]
  },
  {
   "cell_type": "markdown",
   "id": "3c9d128f-6418-4b03-a1dc-44146aab9d17",
   "metadata": {},
   "source": [
    "<details><summary>ANSWERS HERE</summary>\n",
    "    <p>The man <strong> who lives next door </strong> is a doctor.</p>\n",
    "    <p>The dog <strong> that are my homework </strong> is a poodle.</p>\n",
    "    <p>The car <strong> that was stolen last night </strong> was a red Honda Civic. </p>\n",
    "</details>"
   ]
  },
  {
   "cell_type": "markdown",
   "id": "cd36fdf1-c2ad-486c-a061-22ff8ae0ef7e",
   "metadata": {},
   "source": [
    "#### Nonrestrictive Clauses"
   ]
  },
  {
   "cell_type": "markdown",
   "id": "ce5aca50-3118-4bea-a647-9b494a58bc74",
   "metadata": {},
   "source": [
    "In contrast, a **nonrestrictive clause** is a clause that provides **additional information** about a noun or pronoun, but is not essential to the meaning of the sentence."
   ]
  },
  {
   "cell_type": "markdown",
   "id": "0f4fe15d-598d-4e47-934a-e409c93ac9db",
   "metadata": {},
   "source": [
    "<div class=\"highlight-box\">\n",
    "<strong>NOTE:</strong>\n",
    "Nonrestrictive clauses do require commas and are separated from the rest of the sentence.\n",
    "</div>\n",
    "\n",
    "<br>"
   ]
  },
  {
   "cell_type": "markdown",
   "id": "8cf9b293-4857-4b63-8290-1ab08f894fca",
   "metadata": {},
   "source": [
    "Here are a few examples of nonrestrictrive clauses: [^3] <br>\n",
    "\n",
    "- I want to thank my father, **Mark Smith**, for all of his love and support.\n",
    "- The hypothesis, **which I tested throughout the research**, was rejected.\n",
    "- I have found the article, **which I have been looking for**.\n",
    "\n",
    "Try removing the nonrestrictive clauses from the sentences. Do they still hold *completeness* without the nonrestrictive clause? For example, in the second sentence, removing the nonrestrictive clause would posit the sentence as: **The hypothesis was rejected.** This sentence without the nonrestrictive clause **which I tested throughout the research** still holds *completeness* because there is a clear understanding that the *noun*, hypothesis, was rejected; the nonrestrictive clause further defines what type of hypothesis it was — the one that the author had tested throughout their research."
   ]
  },
  {
   "cell_type": "markdown",
   "id": "8640d12e-af4a-4469-a75e-7ec0bf997ee4",
   "metadata": {},
   "source": [
    "**<span class = \"note\"> <strong>YOUR TURN:</strong></span>** **Briefly identify the nonrestrictive clauses in the sentences below and reconstruct the sentences with correct usage of commas, if necessary:** <br>\n",
    "\n",
    "- My friend who lives in New York is coming to visit me next week.\n",
    "- The cat sleeping on the couch woke up when I came home.\n",
    "- The book which I read last week was very good."
   ]
  },
  {
   "cell_type": "markdown",
   "id": "61878c5e-ae0f-4957-a3a0-96ef5bc6ff0a",
   "metadata": {},
   "source": [
    "<details><summary>ANSWERS HERE</summary>\n",
    "    <p>My friend<strong>, who lives in New York, </strong> is coming to visit me next week. </p>\n",
    "    <p>The cat<strong> sleeping on the couch </strong> woke up when I came home. </p>\n",
    "    <p>The book<strong>, which I read last week, </strong> was very good. </p>\n",
    "</details>"
   ]
  },
  {
   "cell_type": "markdown",
   "id": "afbbac9f-96d3-4e17-afb2-f834ae5136cf",
   "metadata": {},
   "source": [
    "From the examples given, relative clauses will follow a common pattern:"
   ]
  },
  {
   "cell_type": "code",
   "execution_count": 4,
   "id": "97ee6218-0ef5-4695-aec4-9bdee34bbd56",
   "metadata": {},
   "outputs": [
    {
     "data": {
      "text/html": [
       "<img src=\"https://mermaid.ink/img/CmdyYXBoIExSOwpBW0RldGVybWluZXJdIC0tPkIoTm91bi9Ob3VuIHBocmFzZSkKICAgIEIgLS0+IEN7UmVsYXRpdmUgcHJvbm91bn0KICAgIEMgLS0+IER7VmVyYi9WZXJiIHBocmFzZX0KICAgIEQgLS0+IHxBY3RzIGFzIGFuIGFkamVjdGl2ZXwgRVtBZGplY3RpdmFsIGNsYXVzZV0KICAgIEQgLS0+IHxBY3RzIGFzIGFuIGFkdmVyYnwgRltBZHZlcmJpYWwgY2xhdXNlXQogICAgCg==\"/>"
      ],
      "text/plain": [
       "<IPython.core.display.Image object>"
      ]
     },
     "metadata": {},
     "output_type": "display_data"
    }
   ],
   "source": [
    "mm(\"\"\"\n",
    "graph LR;\n",
    "A[Determiner] -->B(Noun/Noun phrase)\n",
    "    B --> C{Relative pronoun}\n",
    "    C --> D{Verb/Verb phrase}\n",
    "    D --> |Acts as an adjective| E[Adjectival clause]\n",
    "    D --> |Acts as an adverb| F[Adverbial clause]\n",
    "    \n",
    "\"\"\")"
   ]
  },
  {
   "cell_type": "markdown",
   "id": "c6bccabe-ee50-477e-9edb-9b526735caf4",
   "metadata": {},
   "source": [
    "## That vs Which"
   ]
  },
  {
   "cell_type": "markdown",
   "id": "2c3d1efc-6f1c-4464-a8c2-93b8b81bac84",
   "metadata": {},
   "source": [
    "### Adjectival and Adverbial Phrases and Clauses"
   ]
  },
  {
   "cell_type": "markdown",
   "id": "20dddc08-fe8d-4493-9bd3-6a6dc0af46c5",
   "metadata": {},
   "source": [
    "<!--CITATIONS-->\n",
    "[^1]: Writing Center at the University of North Carolina at Chapel Hill. (n.d.). *Relative clauses*. Retrieved from https://writingcenter.unc.edu/tips-and-tools/relative-clauses/\n",
    "\n",
    "[^2]: Khan Academy. (2016, August 23). *Relative clauses | Syntax | Khan Academy* [Video]. YouTube. https://www.youtube.com/watch?v=fm7QEiEk83o&t=38s\n",
    "\n",
    "\n",
    "[^3]: Walden University. (n.d.). *Clauses*. Academic Guides. Retrieved from https://academicguides.waldenu.edu/writingcenter/grammar/clauses"
   ]
  }
 ],
 "metadata": {
  "kernelspec": {
   "display_name": "Python [conda env:ml-0451]",
   "language": "python",
   "name": "conda-env-ml-0451-py"
  },
  "language_info": {
   "codemirror_mode": {
    "name": "ipython",
    "version": 3
   },
   "file_extension": ".py",
   "mimetype": "text/x-python",
   "name": "python",
   "nbconvert_exporter": "python",
   "pygments_lexer": "ipython3",
   "version": "3.9.16"
  }
 },
 "nbformat": 4,
 "nbformat_minor": 5
}
