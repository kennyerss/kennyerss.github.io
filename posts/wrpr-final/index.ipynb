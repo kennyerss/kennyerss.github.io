{
 "cells": [
  {
   "cell_type": "raw",
   "id": "319333ef-f93e-4a6f-a8a5-0b49fbf3fecd",
   "metadata": {},
   "source": [
    "---\n",
    "title: \"Grammar Lesson Plan: Modifiers\"\n",
    "author: Kent Canonigo\n",
    "date: '2023-05-10'\n",
    "image: \"modifiers.jpg\"\n",
    "description: \"A curated lesson plan to teach future WRPR students about 'Modifiers': adjectival and adverbial phrases and clauses, participial phrases (vs gerunds), and relative clauses (that vs. which).\"\n",
    "format:\n",
    "  html:\n",
    "    toc: true\n",
    "    toc-depth: 2\n",
    "    toc-title: Table of Contents\n",
    "    echo: false\n",
    "---"
   ]
  },
  {
   "cell_type": "markdown",
   "id": "377af028-7d66-4c47-b98f-62a56363d4e5",
   "metadata": {},
   "source": [
    "<!--CSS-->\n",
    "<style>\n",
    ".highlight-box {\n",
    "  background-color: #ffffcc;\n",
    "  border: 1px #cccccc;\n",
    "  padding: 0px;\n",
    "  margin: 0px;\n",
    "  display: flex;\n",
    "  text-align: center;\n",
    "}\n",
    "    \n",
    "</style>"
   ]
  },
  {
   "cell_type": "code",
   "execution_count": null,
   "id": "d452603d-070c-4504-8ed1-527ae0c23aad",
   "metadata": {},
   "outputs": [],
   "source": [
    "import base64\n",
    "from IPython.display import Image, display\n",
    "import matplotlib.pyplot as plt\n",
    "\n",
    "def mm(graph):\n",
    "  graphbytes = graph.encode(\"ascii\")\n",
    "  base64_bytes = base64.b64encode(graphbytes)\n",
    "  base64_string = base64_bytes.decode(\"ascii\")\n",
    "  display(Image(url=\"https://mermaid.ink/img/\" + base64_string)"
   ]
  },
  {
   "cell_type": "code",
   "execution_count": null,
   "id": "9041813e-9192-4356-bec9-87cc439ed72e",
   "metadata": {},
   "outputs": [],
   "source": [
    "# '''\n",
    "# HTML MARKDOWN CHEAT-SHEET\n",
    "\n",
    "# collapsing block:\n",
    "\n",
    "# <details><summary>Code example</summary><p>\n",
    "#   ...\n",
    "# </p></details>\n",
    "\n",
    "# nested collapsing block:\n",
    "\n",
    "# <details><summary>Hello</summary><blockquote>\n",
    "#   <details><summary>World</summary><blockquote>\n",
    "#     :smile:\n",
    "#   </blockquote></details>\n",
    "# </blockquote></details>\n",
    "\n",
    "# FLOWCHARTS\n",
    "# ```mermaid\n",
    "# graph LR\n",
    "# A[Hard edge] -->B(Round edge)\n",
    "#     B --> C{Decision}\n",
    "#     C -->|One| D[Result one]\n",
    "#     C -->|Two| E[Result two]\n",
    "# ```"
   ]
  },
  {
   "cell_type": "markdown",
   "id": "6292fe7e-59a2-446b-bf03-f5d3465868c6",
   "metadata": {
    "tags": []
   },
   "source": [
    "# Modifiers\n",
    "\n"
   ]
  },
  {
   "cell_type": "code",
   "execution_count": null,
   "id": "c8dc14af-39d1-4004-90b9-322812cc212f",
   "metadata": {},
   "outputs": [],
   "source": [
    "<details><summary>EXERCISES HERE</summary>\n",
    "    <p>\n",
    "      ...\n",
    "    </p>\n",
    "</details>\n",
    "\n",
    "<details><summary>ANSWERS HERE</summary>\n",
    "    <p>\n",
    "      ...\n",
    "    </p>\n",
    "</details>"
   ]
  },
  {
   "cell_type": "markdown",
   "id": "0e4350a3-da2c-499b-91c2-ee745d1f37f3",
   "metadata": {},
   "source": [
    "## Dangling Modifiers"
   ]
  },
  {
   "cell_type": "code",
   "execution_count": 23,
   "id": "a29c066d-f7d3-4647-95b5-27e2d5f661a9",
   "metadata": {},
   "outputs": [],
   "source": [
    "\n",
    "# mm(\"\"\"\n",
    "# graph LR;\n",
    "# A[Hard edge] -->B(Round edge)\n",
    "#     B --> C{Decision}\n",
    "#     C -->|One| D[Result one]\n",
    "#     C -->|Two| E[Result two]\n",
    "# \"\"\")\n"
   ]
  },
  {
   "cell_type": "code",
   "execution_count": null,
   "id": "abb1d9e8-1bb6-4c8c-b825-d5e9cd692392",
   "metadata": {},
   "outputs": [],
   "source": []
  },
  {
   "cell_type": "markdown",
   "id": "e0be1006-2eb3-4401-b729-16567bce57e3",
   "metadata": {},
   "source": [
    "# Relative Clauses "
   ]
  },
  {
   "cell_type": "markdown",
   "id": "0fe78a44-871a-40bd-9560-6437cf41332b",
   "metadata": {},
   "source": [
    "<div class=\"highlight-box\">\n",
    "<strong>Relative clauses:</strong> \n",
    "    A form of *dependent clauses*, except they have a <strong>SUBJECT</strong> and a <strong>VERB</strong>! However, relative clauses cannot stand alone as a complete sentence.\n",
    "</div>"
   ]
  },
  {
   "cell_type": "markdown",
   "id": "7fdebb3a-f4c5-4a42-a204-ceca940ad2e7",
   "metadata": {},
   "source": [
    "Relative clauses are important because they can provide necessary or additional information about nouns/noun phrases[^1]. They are most often introduced by **relative pronouns**. In the table below are common usage of relative pronouns with examples. "
   ]
  },
  {
   "cell_type": "markdown",
   "id": "a12429b7-75fb-4d91-8c32-cbfabde078d6",
   "metadata": {},
   "source": [
    "<center>\n",
    "\n",
    "| Relative Pronoun | Example |\n",
    "|-----------------|---------|\n",
    "| who             | The person who called me |\n",
    "| whom            | The person whom I met |\n",
    "| which           | The book which I read |\n",
    "| that            | The car that I bought |\n",
    "| whose           | The house whose roof is red |\n",
    "| where           | The city where I grew up |\n",
    "| when            | The day when we met |\n",
    "| why             | The reason why I didn't go |\n",
    "\n",
    "</center>"
   ]
  },
  {
   "cell_type": "markdown",
   "id": "75c4c7db-6b9d-4709-a5b1-a6dbd423aebc",
   "metadata": {},
   "source": [
    "Here's a video about relative clauses as explained by KhanAcademy!"
   ]
  },
  {
   "cell_type": "markdown",
   "id": "7a24d3c2-dbf8-4659-ad8a-140fa33f800f",
   "metadata": {},
   "source": [
    "[![](khan.jpg)](https://www.youtube.com/watch?v=fm7QEiEk83o&t=38s)"
   ]
  },
  {
   "cell_type": "markdown",
   "id": "afbbac9f-96d3-4e17-afb2-f834ae5136cf",
   "metadata": {},
   "source": [
    "From the examples given, relative clauses will follow a common pattern:"
   ]
  },
  {
   "cell_type": "code",
   "execution_count": 29,
   "id": "97ee6218-0ef5-4695-aec4-9bdee34bbd56",
   "metadata": {},
   "outputs": [
    {
     "data": {
      "text/html": [
       "<img src=\"https://mermaid.ink/img/CmdyYXBoIExSOwpBW0RldGVybWluZXJdIC0tPkIoTm91bi9Ob3VuIHBocmFzZSkKICAgIEIgLS0+IEN7UmVsYXRpdmUgcHJvbm91bn0KICAgIEMgLS0+IER7VmVyYi9WZXJiIHBocmFzZX0KICAgIEQgLS0+IHxNb2RpZnlpbmcgbm91bnwgRVtBZGplY3RpdmFsIGNsYXVzZV0KICAgIEQgLS0+IHxNb2RpZnlpbmcgdmVyYnwgRltBZHZlcmJpYWwgY2xhdXNlXQogICAgCg==\"/>"
      ],
      "text/plain": [
       "<IPython.core.display.Image object>"
      ]
     },
     "metadata": {},
     "output_type": "display_data"
    }
   ],
   "source": [
    "mm(\"\"\"\n",
    "graph LR;\n",
    "A[Determiner] -->B(Noun/Noun phrase)\n",
    "    B --> C{Relative pronoun}\n",
    "    C --> D{Verb/Verb phrase}\n",
    "    D --> |Modifying noun| E[Adjectival clause]\n",
    "    D --> |Modifying verb| F[Adverbial clause]\n",
    "    \n",
    "\"\"\")"
   ]
  },
  {
   "cell_type": "markdown",
   "id": "c6bccabe-ee50-477e-9edb-9b526735caf4",
   "metadata": {},
   "source": [
    "## That vs Which"
   ]
  },
  {
   "cell_type": "markdown",
   "id": "2c3d1efc-6f1c-4464-a8c2-93b8b81bac84",
   "metadata": {},
   "source": [
    "### Adjectival and Adverbial Phrases and Clauses"
   ]
  },
  {
   "cell_type": "markdown",
   "id": "259e4d02-36b5-44a3-8db7-289969eb3756",
   "metadata": {},
   "source": [
    "### Restrictive vs Nonrestrictive Clauses"
   ]
  },
  {
   "cell_type": "markdown",
   "id": "20dddc08-fe8d-4493-9bd3-6a6dc0af46c5",
   "metadata": {},
   "source": [
    "<!--CITATIONS-->\n",
    "[^1]: Writing Center at the University of North Carolina at Chapel Hill. (n.d.). Relative clauses. Retrieved from https://writingcenter.unc.edu/tips-and-tools/relative-clauses/"
   ]
  }
 ],
 "metadata": {
  "kernelspec": {
   "display_name": "Python [conda env:ml-0451]",
   "language": "python",
   "name": "conda-env-ml-0451-py"
  },
  "language_info": {
   "codemirror_mode": {
    "name": "ipython",
    "version": 3
   },
   "file_extension": ".py",
   "mimetype": "text/x-python",
   "name": "python",
   "nbconvert_exporter": "python",
   "pygments_lexer": "ipython3",
   "version": "3.9.16"
  }
 },
 "nbformat": 4,
 "nbformat_minor": 5
}
