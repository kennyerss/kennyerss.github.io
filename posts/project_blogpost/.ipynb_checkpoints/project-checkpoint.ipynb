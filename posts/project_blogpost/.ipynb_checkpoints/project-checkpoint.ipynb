{
 "cells": [
  {
   "cell_type": "raw",
   "id": "9052ef04-9952-42c4-a5d4-a8a7f4b2fb0e",
   "metadata": {},
   "source": [
    "---\n",
    "title: Determining Race from Chest X-Rays\n",
    "author: Trong Le, Jay-U Chung, Kent Canonigo\n",
    "date: '2023-05-22'\n",
    "image: 'view1_frontal.jpg'\n",
    "description: \"Reproducing literature's code to predict race from chest x-rays.\"\n",
    "format: html\n",
    "bibliography: refs.bib\n",
    "---"
   ]
  },
  {
   "cell_type": "markdown",
   "id": "59686af9-6910-4b89-973e-82c29b90fd85",
   "metadata": {},
   "source": [
    "The GitHub repository for the project code can be found [here](https://github.com/kennyerss/csci451-project)."
   ]
  },
  {
   "cell_type": "markdown",
   "id": "3ffe0ef5-6bb6-4e63-85e5-1690f882628c",
   "metadata": {},
   "source": [
    "# 1. Abstract\n",
    "\n",
    "A series of prior results, including those by @gichoya2022ai, have shown that it is possible to use deep convolutional neural networks to predict a patient's self-reported race from chest radiographs with high accuracies. Since this result displays significant ethical concerns for medical imaging algorithms, we aim to reproduce these results and investigate the implications this algorithm could have for race-based medicine and the racial inequalities reinforced by algorithms. We use a subset of the chest radiographs obtained from the [ChexPert](https://stanfordmlgroup.github.io/competitions/chexpert/) dataset, aiming to classify images into Black, White, Asian. We primarily train and test on a subset of data with equal proportions amongst all races. In particular, we compare the results of pretrained and untrained ResNet18 models and the EfficientNetB0 model. Our results achieve around 70 % accuracy, displaying some racial bias and having minimal gender bias. We therefore conclude that, on a smaller scale, we have confirmed that it is indeed possible to train neural networks to accurately classify race from chest radiographs.\n",
    "\n",
    "<!-- We also looked into the ethical concerns that the success of this project can pose. Hypothetically, due to the fact that an 'unbiased' machine can classify racially ambiguous pictures of chest X-rays into different race groups, racial inequalities may be reinforced and justified. Realistically, this project shows that deep learning models can indeed tell the race of a patient from ambiguous medical information, which calls into question the fairness of the various models currently used in medical decision-making. -->\n",
    "\n"
   ]
  },
  {
   "cell_type": "markdown",
   "id": "bffc2452-d5c5-415f-b107-5cf349f26a7c",
   "metadata": {},
   "source": [
    "# 2. Introduction\n",
    "\n",
    "Deep neural networks are increasingly getting popular in medicine as diagnostic tools. While at times suprassing the accuracy of experts, results such as those by @seyyed2021underdiagnosis show concerning results of underdiagnosis for patients that are Black, Hispanic, younger, or belonging to a lower socieconomic status groups. Problematically this reinforces a history of minority groups or economically vulnerable groups receiving inadequate medical care, especially when many publicly available datasets are disproportionately represent White patients.\n",
    "\n",
    "As @seyyed2021underdiagnosis suggest, this may be a matter of confounding variables as bias amplification or differing prevalence. However, a paper by @gichoya2022ai investigated the direct question - can race be inferred from chest X-rays? Clincially speaking this is something that is not expected, it is an implicit assumption that chest radiographs contain no information about one's demographic characteristics, beyond those most relevant to physiology, such as age or biological sex. Many models specifically exclude characteristics so that classification is based solely on the image. However, deep neural networks are often a black box, being capable on picking up on pixel level patterns that are surprising. \n",
    "\n",
    "Indeed, the authors @gichoya2022ai found that by using self-reported race labels, those being Black, White, and Asian, it is possible to classify chest radiographs into these three categories with high accuracies (0.91–0.99 using AUC metrics). To the extent that they investigated, this was not based on potentially race related characteristics, including bone or breast density or disease prevalence. Even highly degraded versions of the image maintained a high performance. Moreover, this pattern could not be replicated with algorithms that did not use the image data - \"logistic regression model (AUC 0·65), a random forest classifier (0·64), and an XGBoost model (0·64) to classify race on the basis of age, sex, gender, disease, and body habitus performed much worse than the race classifiers trained on imaging data\".  So as they conclude, \"medical AI systems can easily learn to recognise self-reported racial identity from medical images, and that this capability is extremely difficult to isolate\" - the problem may be prevalent in a large range of algorithms and would be difficult to correct for. Moreover, the fact that they obtained the results by training on a variety of popular and publicly available datasets for medical images, including the MIMIC-CXR, CheXpert, National lung cancer screening trial, RSNA Pulmonary Embolism CT, and the Digital Hand Atlas, further suggests that this could largely applicable to other AI projects. \n",
    "\n",
    "This paper is also not a standalone result. A prior paper by @yi2021radiology demonstrated that age and sex can be determined for Chinese and American populations. A paper by @adleberg2022predicting, training on the MIMIC-CXR dataset, created a deep learning model that can extract self-reported information such as age, gender, race, ethnicity with high accuracies, even insurance status at moderate rates.\n",
    "\n",
    "While the question of whether their results are reproducible has been more adequately answered elsewhere, we are interested if it possible to reproduce their results on a smaller scale. Moreover, we aim to answer the ethical implications of their work beyond the problems of bias it poses to deep neural networks. @gichoya2022ai \"emphasise that the ability of AI to predict racial identity is itself not the issue of importance\", but is this enough? It does not seem to be adequate to stop at this conclusion when racial classification itself is a goal that is long rooted in the painful histories of eugenics, slavery, and colonization. To this extent we will exposit some more about the definition of race and its use in medicine.\n",
    "\n",
    "<!-- Race-based medicine, according to [Cerdena et al.](https://www.thelancet.com/journals/lancet/article/PIIS0140-6736(2032076-6/fulltext), is characterized by medical research that treats race as an essential and biological factor. When translated into clinical practice, race-based medicine relies on racial stereotypes and leads to faulty, inequitable care. For example, because Asian patients are presumed to have more visceral body fat than other races, they are considered to be at higher risk for diabetes. Because race-based medicine serves as a shortcut so that doctors can work around a patient's personal pathological history, it can either exaggerate or underestimate a patient's risk for certain illnesses. Not only can race-based medicine reinforce racist stereotypes, it can also limit access to treatment for patients wrongly considered as lower-risk for a disease.\n",
    "\n",
    "It is understandable that pathological information about a patient can be extracted from their chest X-ray. However, [Adleberg et. al](https://pubmed.ncbi.nlm.nih.gov/35964688/) created a deep learning model that can extract self-reported information such as age, gender, race, ethnicity and insurance status with almost 100% certainty. Similarly, [Gichoya et. al](https://www.thelancet.com/journals/landig/article/PIIS2589-7500(22)00063-2/fulltext) also successfully created a model that can predict race from chest X-rays. They also confirmed that disease distribution and body habitus among patients did not strongly affect the prediction of their model. This means that their model – and in extension, other deep learning models used in medicine – can pick up a patient's race based on their medical images. This could lead to race-specific errors that clinical radiologists without access to demographic information would not be able to tell, and thus resulting in faulty medical decision-making.\n",
    "\n",
    "Our goal when undertaking this project is to find out whether it is possible for deep learning models to detect race from racially ambiguous data such as chest X-rays. We would also like to investigate the potential ethical risks that the success of this project poses. Racial inequalities may be justified by the identifiable physiological differences between the races. Also, this project may introduce new possibility for surveillance methods: medical surveillance. -->"
   ]
  },
  {
   "cell_type": "markdown",
   "id": "dca83e78-2d6f-4627-bc64-cf4869855c9c",
   "metadata": {},
   "source": [
    "# Race in Medicine\n",
    "\n",
    "The most concerning question we face are the implications of this model. The direct usages for this algorithm are limited. However, its main value is in its demonstration; anyone using an AI algorithm may be unknowingly be using similar procedures to this one to classify self-reported and use this as a proxy for other classifcation tasks. \n",
    "\n",
    "We cannot ignore that there still may be potential users of this algorithm. The very goal of racial classification contains an implicit assumption that race exists. However, we must address two central questions: what race represents in medicine, and how race has been used for clinical practice.\n",
    "\n",
    "## Does Race Exist?\n",
    "\n",
    "Whether race exists as a biological phenomenon, and not as a social construct, is a hotly debated issue. As @cerdena2020race  note, “race was developed as a tool to divide and control populations worldwide. Race is thus a social and power construct with meanings that have shifted over time to suit political goals, including to assert biological inferiority of dark-skinned populations.\"\n",
    "\n",
    "One justification for the biological reality of races is based on the assumption that different races have distinct genetics from one another, and can be fit into genetic groups. However, @maglo2016population note that humans are not distinct by evolutionary criteria and genetic similarities between “human races, understood as continental clusters, have no taxonomic meaning”, with there being “tremendous diversity within groups” [2]. Whether race defines a genetic profile is therefore unclear at best, with correlations between race and disease being confounded by variables such as the association between race and socioeconomic variables.\n",
    "\n",
    "## What is Race-based Medicine?\n",
    "\n",
    "It is possible that some may be interested in using this algorithm to deduce the race of an individual and use this as part of medical decisions. There are some correlations between disease prevalence and race. @maglo2016population note that “Recent studies showed that ancestry mapping has been successfully applied for disease in which prevalence is significantly different between the ancestral populations to identify genomic regions harboring diseases susceptibility loci for cardiovascular disease (@tang2005genetic), multiple sclerosis (@reich2005whole), prostate cancer (@freedman2006admixture), obesity (@cheng2009admixture), and asthma (@vergara2009african)” [2].  \n",
    "\n",
    "These practices would be characteristic of race-based medicine. As @cerdena2020race argue, this is “the system by which research characterizing race as an essential, biological variable, [which] translates into clinical practice, leading to inequitable care” [1]. Notably, then, race-based medicine has come under heavy criticism.\n",
    "\n",
    "## The Harms of Race-based Medicine\n",
    "\n",
    "As stated above, race is not an accurate proxy for genetics. @cerdena2020race note that in medical practices, race is used as an inaccurate guideline for medical care: “Black patients are presumed to have greater muscle mass …On the basis of the understanding that Asian patients have higher visceral body fat than do people of other races, they are considered to be at risk for diabetes at lower body-mass indices” [1]. As they note, race-based medicine can be founded more on racial stereotypes and generalizations rather than. \n",
    "\n",
    "Moreover, race-based medicine can lead to ineffective treatements. @apeles2022race summarizes the results of a study on race-based prescriptions for Black patients for high blood pressure. While this study demonstrates that alternative prescriptions for Black patients with high blood pressure have been shown to be ineffective, \"Practice guidelines have long recommended that Black patients with high blood pressure and no comorbidities be treated initially with a thiazide diuretic or a calcium channel blocker (CCB) instead of an angiotensin converting enzyme inhibitor (ACEI) and/or angiotensin receptor blocker (ARB). By contrast, non-Black patients can be prescribed any of those medicines regardless of comorbidities.\" In addition, the authors of the study found that \"other factors may be more important than considerations of race, such as dose, the addition of second or third drugs, medication adherence, and dietary and lifestyle interventions. Follow-up care was important, and the Black patients who had more frequent clinical encounters tended to have better control of their blood pressure.\"\n",
    "\n",
    "In addition, @vyas2020hidden argue that race is ill-suited as a correction factor for medical algorithms. As they found, algorithms as the American Heart Association (AHA) Get with the Guidelines–Heart Failure Risk Score, which predicts the likelihood of death from heart failure, the Vaginal Birth after Cesarean (VBAC), which predicts the risk of labor for someone with a previous cesarean section, and STONE score, which predicts the likelihood of kidney stones in patients with flank pain, all used race to change their predictions of the likelihood or morbidities. However, they find that these algorithms were not sufficiently evidence based as \"Some algorithm developers offer no explanation of why racial or ethnic differences might exist. Others offer rationales, but when these are traced to their origins, they lead to outdated, suspect racial science or to biased data\". Using race can then discourage racial minorities from receiving the proper treatment based on their scores, exacerbating already existing problems of unequal health outcomes.\n",
    "\n",
    "## Conclusion\n",
    "\n",
    "So it is clear that anyone who intends to use race for diagnosis could harm racial minority groups. Race inherently is a complex social and economic phenomenon and cannot be said to be a clear biological variable. Hence anyone intending to use or create algorithms will run the risk of creating dangerous biases in treatment; ones that could worsen the existing disparities in care for vulnerable populations."
   ]
  },
  {
   "cell_type": "markdown",
   "id": "47016001-255a-4eab-9fda-554a59ba00b6",
   "metadata": {},
   "source": [
    "# 3. Values Statement\n",
    "\n",
    "The potential **users** of this project are scholars and researchers who remain adamant in exploring the classification of *race* through the intersection of other socially constructed identities (gender, ethnicity, sexuality, etc.). There have been numerous literatures potentially identifying *race* as a proxy for categorizing and describing certain social, cultural, and biological characteristics of individuals or groups; it has also become pervasive in its history and role in the medical field. Those who are harmed and still are affected by this project would be the *hidden* bodies — the group of individuals historically marginalized in society — and whose very identities are in a constant battle of validity. In pursuit of this project, we acknowledge that the technology and results could further harm and perpetuate the racist ideologies that currently exists in *validating* the physiological differences across racial groups. \n",
    "\n",
    "**What is your personal reason for working on this problem?**\n",
    "\n",
    "Jay-U: My personal motivation for working on this project was my interest in @gichoya2022ai's paper. I thought it was very suprising that they were able to identify race from chest X-rays when I think that there should be nothing identifying about the images. I think that ethically it is problematic, so I wanted to explore their methods and verify if it was reproducible, as well as reading more about race and its use in medicine.\n",
    "\n",
    "Kent: My personal reason for working on this project was to engage in an ethical conversation about the implications of classifying race through AI. Jay-U provided the initial literature to this project, and it motivated me to exercise bias auditing if any of the algorithms proved to be flawed. \n",
    "\n",
    "<!-- We do not believe that there are many users for this model. The only instance in which we think this model could be useful is when we need to expose a celebrity for cultural appropriation by showing that their chest X-ray does not belong in that cultural group per se; but of course, this is a stretch. Despite the lack of people who might actually use the model, the results of this project may be used to justify racial inequalities because apparently according to this model there are identifiable differences between the races — not just superficial differences in skin tone or hair texture, but bones, subcutaneous differences that we cannot see. If this model fell into the hands of a eugenicist, the repercussions would be dire. In that case, this model would work towards the direction that Dr. Timnit Gebru had warned us against: eugenics comes back to us again and again in increasingly progressive and scientific forms. \n",
    "\n",
    "In short, potential users for our projects are propagandists working to discriminate against minorities. Even though this is not our goal, it will undoubtedly marginalize a lot of people if eugenicists happen upon our results. However, since we are not the first to undertake this project, and there are more comprehensive studies of the same subject done by Adleberg et al. and Gichoya et al, we believe that we are not worsening this risk.\n",
    "\n",
    "As for our goal, we aim to check if it is indeed possible to classify race this way. We also want to know what could lead to this possibility: whether the model is picking up on something that is not indicative of race and using that to make its decision, or there is indeed a racial difference. In the past, we learned about an image classification model that was trained to detect criminals but turned out to detect if someone is smiling or not. This could be the case for our model, but until there is an actual test, we cannot conclude anything on how exactly our model is making its decisions. \n",
    "\n",
    "Gichoya et al., however, have done several tests to confirm that their model was indeed using physiological differences to make its classification. If we were allowed more time and computing power, we might arrive at the same conclusion, which would work in favor of our professed fears. Therefore, our second deliverable, to provide a rebuttal against those who may extrapolate our results to their ends, is a paper demonstrating our findings on the ambiguity of race in medicine.\n",
    "\n",
    "The potential justification of racial inequalities is, of course, still potential. We have yet to receive a newsletter extrapolating the results of Gichoya et al. to call for the reintroduction of racial segregation. However, the success of this project still shows us a very real, ongoing injustice: that deep learning models currently used in medicine are also capable of identifying a patient's race based on their racially ambiguous medical images, and thus turning the patient's race into a vector in the decision-making matrix of the model. Again, this works in the direction that Dr. Gebru had warned us against: inequitable medical care is administered by supposedly fair machines. Working on this project, we do not aim to solve a problem, but to see what the problem is. -->"
   ]
  },
  {
   "cell_type": "markdown",
   "id": "dafdb7e1-8b0a-4358-847c-eac79a2f4606",
   "metadata": {},
   "source": [
    "# 4. Materials and Methods\n",
    "\n",
    "#  Our Data\n",
    "We used the [ChexPert dataset](https://stanfordmlgroup.github.io/competitions/chexpert/) collected by @irvin2019chexpert. The dataset contains images collected between between October 2002 and July 2017, where the dataset was eventually finalized after analyzing all images from Stanford Hospital. This dataset contains 224,316 frontal and lateral chest radiographs of 65,240 patients. Each radiograph is labeled with information such as age, gender, race, ethnicity and medical conditions, but we are primarily concerned with race and gender. A full structured datasheet of the ChexPert dataset has been explained by @garbin2021structured.\n",
    "\n",
    "One limitation in the dataset includes a limited variety of x-ray devices to capture the images as the dataset is only coming from one institution — Stanford Hospital. Thus, models trained on this dataset may perform worse when compared to other institutions. Varied patients' ages and sex may affect the representation of gender and age in the dataset.\n",
    "\n",
    "White patients occupy the vast majority of this dataset, as shown by the following figure, and we are concerned that this may lead to a racial bias in the model's classification algorithm.\n",
    "\n",
    "![imbalance](imbalance.png)\n",
    "\n",
    "To account for this imbalance, we trained our model on a racially balanced subset of the ChexPert dataset. Even though there are more male than female patients in this training set, we would later learn that the model does not exhibit gender bias.\n",
    "\n",
    "![balance1](balance.png) ![balance2](gender.png)\n",
    "\n",
    "# Our Method\n",
    "\n",
    "We trained our model using 10,000 frontal chest X-rays, such as the one in the following figure, and the feature used as target is race. We only used 10,000 images due to the lack of computing power. This subset is equally divided among Asian, Black and White patients, and excludes other races to keep the algorithm simple.\n",
    "\n",
    "![chest X-ray](view1_frontal.jpg)\n",
    "\n",
    "As for our models, we used ResNet and EfficientNet because they are popular deep learning architectures for image classification. Specifically, we used pretrained EfficientNetB0 and ResNet18 models. We also implemented some ResNet18 models on our own but achieved a lower accuracy. To gauge what the ResNet18 model is \"looking\" at, we extracted the filters from the first convolutional layer to visualize the feature maps across three convolutional layers: layer 0, layer 8, and the last layer 16.\n",
    "\n",
    "For the training data, we accessed the .csv file containing demographic details about the patients, extracted the path to each radiograph, and label each image with its owner's race. The images are turned into tensors, and then loaded to be trained using the Adam optimizer. Because of the large size of the data, we did all training and testing on Google Colab.\n",
    "\n",
    "To optimize a model, we would train it on 10,000 images in a loop using different learning rates for the Adam optimizer and $\\gamma$ values for the exponential scheduler. In the same loop, we would then test the model on 2,500 images to find the optimal parameters. Cross entropy loss was used for all models.\n",
    "\n",
    "As mentioned before, there may be a gender bias in our model because there are more male than female patients in our training dataset. We inspected this by splitting our test set into male and female counterparts and testing the model on each subset. Gender bias is then examined by looking at the score and confusion matrix for each gendered subset."
   ]
  },
  {
   "cell_type": "markdown",
   "id": "dd1088d3-2e18-43d9-ac91-bc1da6867aa2",
   "metadata": {
    "jp-MarkdownHeadingCollapsed": true,
    "tags": []
   },
   "source": [
    "# 5. Results\n",
    "\n",
    "## Loss and Accuracy History\n",
    "We achieved a fairly efficient model that can predict with up to 80% accuracy whether a person is Asian, Black or White. Pretrained ResNet and EfficientNet models obtained similar accuracies and losses, so we will display only EfficientNet results. As we can see in the following figures, the training score and loss gradually improved while the validation score and loss plateau after a few epochs. This means that there was some overfitting. We tried to optimize the model by altering the scheduler type, varying the Adam learning rate from 0.001 to 0.01, but the overfitting did not go away. The score, however, remained consistently at around 75% throughout these changes.\n",
    "\n",
    "![EfficientNetB0 loss](loss0735.png) ![EfficientNetB0 score](score0735.png)\n",
    "\n",
    "It is important to note that we did our training and testing on racially balanced datasets. Before optimization, we could only achieve good accuracy if we tested the model on a racially balanced test dataset. If we tested the model on a predominantly white dataset, the model tended to guess everyone to be white. After optimizing our model with the Adam optimizer learning rate at 0.001 and an exponential scheduler with $\\gamma = 0.735$, we achieved good accuracy on the imbalanced set without the model guessing everybody to be white.\n",
    "\n",
    "We also did our own implementation of ResNet18, and obtained comparable results. The issue of overfitting remained, and our model achieved a score of up to 68% when tested on unseen data. Because the pretrained EfficientNet model returned better results, we would explore gender bias on this model.\n",
    "\n",
    "![ResNet18 Self-Implementation Loss](self-loss.png) ![ResNet18 Self-Implementation Score](self-score.png)"
   ]
  },
  {
   "cell_type": "markdown",
   "id": "8cf84687-93d4-4dea-877c-dd4621552a5f",
   "metadata": {
    "tags": []
   },
   "source": [
    "## Confusion Matrix \n",
    "\n",
    "Shown below are the confusion matrices for the EfficientNet model with $\\gamma = 0.735$ over a subset of 2500 male and female patients for both frontal and lateral images. The horizontal axis represents the predicted classes (White, Black, Asian), and the vertical axis represents the true labels.\n",
    "\n",
    "| *Confusion matrix for male patients* | *Confusion matrix for female patients* |\n",
    "|:--:|:--:|\n",
    "| <img src=\"male.png\" style=\"width:500px;\"> | <img src=\"female.png\" style=\"width:500px;\"> |"
   ]
  },
  {
   "cell_type": "markdown",
   "id": "b885ef3a-d158-4bcc-9399-5e536c4581d6",
   "metadata": {},
   "source": [
    "From the confusion matrices above, we notice that for male patients, the model classified `White` the best class, with 78% of the predictions to be true. Whereas, for the female patients, the model classified `Asian` the best class, with 79% of the predictions to be true. However, across all classes (White, Black, Asian), the percentage of true-positives are relatively the same and can be interpreted to be equivalent. \n",
    "\n",
    "However, for both sexes, the Asian and Black classes tends to be classified as of the White class at a significant rate compared to the Black class. \n",
    "\n",
    "For male patients, 19% of the Black class and 18% of the Asian class were predicted to belong to the White class. For female patients, 17% of the Black class and 15% of the Asian class were predicted to belong to the White class. These rates share similar performace to the misclassification of White patients as predicted Asian — as 12% of the male White class and 16% of the female White class were predicted as Asian. In contrast, the model has a significantly low percentage of classifying the Asian and White class as part of the Black class. \n",
    "\n",
    "Thus, although we have trained on an equal subset of each class (White, Black, Asian), the confusion matrix suggests that there may be **representational bias** with how a certain class such as the White class will be more likely to be predicted than the Black and Asian class. Thus, though the model does classify each race at a relatively moderate accuracy (up to 80% accuracy), it may also be at the cost of producing inaccurate classifications to a patient's true race — which is highly favored for those belonging in the White class. This can result in heavy implications if an algorithm like this were to be commercialized and probes the validity of similar algorithms that yield a \"high\" accuracy rates for the true races. "
   ]
  },
  {
   "cell_type": "markdown",
   "id": "522a5994-6947-4cc4-a4cf-a56324594b86",
   "metadata": {},
   "source": [
    "## Visualized Feature Map\n",
    "\n",
    "Using our self-implemented ResNet18 model, we demonstrate below the first convolutional layer's filters, and the feature maps of three convolutional layers — layer 0, layer 8, and layer 16 (the last layer). \n",
    "\n",
    "The patient used for this demonstration is a White, non-hispanic Female. Shown below is the patient's frontal-view image used for this experiment.\n",
    "\n",
    "| *Frontal-view image of patient* |\n",
    "|:--:| \n",
    "|<img src=\"patient2.jpg\" width=\"500\">|\n",
    "\n",
    "And here is the first convolutional layer's filter:\n",
    "\n",
    "| *First convolutional layer filter of the self-implemented ResNet-18 neural network model* |\n",
    "|:--:| \n",
    "|<img src=\"filter.png\" width=\"500\">|\n",
    "\n",
    "Then, we passed the filter through each of the convolutional layers of the model. For simplicity, we only showed three of the total layers. It is interesting to see that there is varied noise as to what the model \"looks\" at, highlighted by the whiter patches of the image — which also corresponds to which part of the image is \"activated\"! \n",
    "\n",
    "| *Feature maps from the first convolutional layer (layer 0) of self-implemented ResNet18 model* |\n",
    "|:--:| \n",
    "|<img src=\"layer-0.png\" width=\"700\">|\n",
    "\n",
    "| *Feature maps from the ninth convolutional layer (layer 8) of self-implemented ResNet18 model* |\n",
    "|:--:| \n",
    "|<img src=\"layer-8.png\" width=\"700\">|\n",
    "\n",
    "| *Feature maps from the last convolutional layer (layer 16) of self-implemented ResNet18 model* |\n",
    "|:--:| \n",
    "|<img src=\"layer-16.png\" width=\"700\">|\n",
    "\n",
    "After displaying the three layers, we observed that the last layer is highly disoriented, and the regular human eye can no longer distinguish the original image (the patient's frontal-view). This last layer serves high importance as it is used to deduce what the model is actually classifying based off \"features\" it has learned. Additionally, we also observe that the model focused on different aspects of the image as the filters used to create the feature map vary. "
   ]
  },
  {
   "cell_type": "markdown",
   "id": "be12a530-44a4-4ad0-ab85-a03f24e8b4c2",
   "metadata": {},
   "source": [
    "# 6. Conclusion\n",
    "\n",
    "The models that our project produced can classify race up to 80% accuracy based on chest X-rays. Given the confines on our time and computing power, this is comparable to models attained by @adleberg2022predicting and @gichoya2022ai. Our initial goal for the project was to see if the models are actually feasible, and we indeed achieved this goal. \n",
    "\n",
    "We also investigated the ethical issues that these models could pose. We speculate that if the results of this project were used in bad faith, existing racial inequalities would be reinforced and worsened. Physiological differences between the races include not only visible features such as skin tone, but also unobservable, subcutaneous features such as bones. This has also been observed by @maglo2016population. They learned that this phenomenon results from racism itself, because prolonged exposure to effects of racism such as toxic stress can lead to observable physiological changes.\n",
    "\n",
    "Another ethical issue that our models can pose is improved surveillance tactics. We learned that during World War II, people of certain ethnicities were incarcerated in various countries, and there were protocols that officials followed to check if an incarceree actually belonged in the condemned ethnic group. We also learned that there were those who actually evaded incarceration by assuming a different identity. With the introduction of a absolutely accurate racial classification model, nobody is safe, because there is no way to lie your way out of persecuation.\n",
    "\n",
    "But of course, this is a stretch. The fact that our deep learning models can learn race is deeply concerning, because it means that race-based medicine can be administered by medical machines that are supposedly unbiased and reliable. The only way to overcome this is for the medical industry itself to stop using race as a vector in decision making.\n",
    "\n",
    "Right now, our model is still in its infancy, and we do not know for sure what the model is looking at to make its decision. If we had more time and Google Colab premium, the first thing we would do is loop over all parameters of the Adam optimizer and the exponential scheduler to optimize our model and overcome overfitting. Once we achieved almost 100% accuracy, we would like to know whether the model was looking at physiological differences between patients to make its decision, or it was looking at something else. To achieve this, we would need more data from different sources and more Google Colab premiums."
   ]
  },
  {
   "cell_type": "markdown",
   "id": "18b71628-8438-44e9-9421-085395230c33",
   "metadata": {},
   "source": [
    "# 7. Group Contributions Statement\n",
    "\n",
    "Trong: I downloaded the ChexPert dataset to a shared drive to make the pathways in our Google Colab consistent; visualized racial and gender imbalances in the training data; trained ResNet18 models with different schedulers; visualized training and validation losses for each model; investigated gender bias for the pretrained EfficientNetB0 model. I tried to implement the code from [here](https://github.com/Emory-HITI/AI-Vengers/tree/main#readme) but it didn't work. I also wrote the project presentation script, the blogpost, and finalized the ethics research.\n",
    "\n",
    "Jay-U: I found the paper by Gichoya et. al on classifying race using Chest X-rays. I found the CheXpert dataset and created the subsets. I created the dataset function for the dataloader (including the transforms). I identified the algorithms to use and experimented with them, using the ResNet and EfficientNet algorithms. I also did a self-implementation on the ResNet18/ResNet34 algorithms and trained them. I implemented the training and testing functions, the optimization loop, and added the learning rate scheduler. I also created a way to save and load models, having trained the pretrained ResNet18 and EfficientNet algorithms with the exponential and plateu schedulers.\n",
    "\n",
    "I also worked on the research, finding and doing the writeups for the introduction (the results similar to the work we're doing). I also found the papers around race-based medicine and finished my write up. I made edits to the project presentation, and all sections of the blogpost.\n",
    "\n",
    "Kent: I aided in exploratory data visualizations for the CheXpert dataset. I also implemented code to visualize the activation maps for the self-implemented ResNet18 model. \n",
    "\n",
    "I helped format the project presentation and aided in editing a portion of the sections. I supported in writing the Values Statement, Methods (added datasheet) and Results (interpreting the confusion matrix + auditing for bias) sections, alongside creating the bibliography. "
   ]
  },
  {
   "cell_type": "markdown",
   "id": "7a958094-b596-435c-a869-75d4fa5e936a",
   "metadata": {},
   "source": [
    "# 8. Personal Reflection\n",
    "\n",
    "From the process of researching, implementing, and communicating about the project, I learned how much less coding and less technicality needed to even start the process of *understanding* the depths and motivations behind a ML-based project. Since our project laid heavy ethical implication, as a group, we really had to dig down deeply *why* this project would be beneficial, if applicable, and the stakeholders present in our project. A majority of the project's foundation was grounded through previous literatures detailing how race is *some* factor found by scholars' neural network models and AI. Thus, the implementation part of this project was focused on reproducing literatures' architectures and algorithms to see if race can truly be classified at a higher rate — and at what cost. From a communication perspective, I think a major lesson I can take away into future courses/life would be that understanding is a shared skill. Since we were working in a Git workflow and through Google Colab, as well, we would often work asynchronously from one another. As a result, it was easy to get caught up with your own work and not have the chance to understand other members' code. \n",
    "\n",
    "From my project contributions, I feel that I did not meet my goals that I set for myself at the beginning of the semester. More specifically, I had wanted to be more engaged with the implementation of neural network models, but I was only able to contribute to data visualizations and interpretations of the models. Due to my physical absence to the major lectures dealing with image classification and neural networks, I felt that I was always catching up with what was present in my group's codebase. In the future, I wish to be more active and attentive to the committed code and communicating with my team about what is potentially confusing. There could also be a group agreement in the beginning about the style of code we would envision ourselves working towards — as there were limited documentation to the code, it felt heavy to my eyes reading through our codebase.\n",
    "\n",
    "I'll definitely carry the experience and *burden* of how to be ethically involved with the algorithms that shape the world around us. Dr. Timnit Gebru's virtual talk and this course has opened my eyes about how dominant and pervasive AI is. My opinion stands that biases will never cease to exist, but what we can do is to restrict and put a spotlight to the biases that we ourselves emit as well as the data/algorithms we comply to as \"truth\". Truth to the corporate world is masked by their greed, and I think that as a future student/engineer with plans to work in the industry, I have to be conscious of the work that I do if it aligns with my values. "
   ]
  }
 ],
 "metadata": {
  "kernelspec": {
   "display_name": "Python 3 (ipykernel)",
   "language": "python",
   "name": "python3"
  },
  "language_info": {
   "codemirror_mode": {
    "name": "ipython",
    "version": 3
   },
   "file_extension": ".py",
   "mimetype": "text/x-python",
   "name": "python",
   "nbconvert_exporter": "python",
   "pygments_lexer": "ipython3",
   "version": "3.9.13"
  }
 },
 "nbformat": 4,
 "nbformat_minor": 5
}
