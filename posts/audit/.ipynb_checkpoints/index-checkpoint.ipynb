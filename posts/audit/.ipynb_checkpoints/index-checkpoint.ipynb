{
 "cells": [
  {
   "cell_type": "raw",
   "id": "3e6e6c0e-8033-4c68-8ad6-e7442a0079ab",
   "metadata": {},
   "source": [
    "---\n",
    "title: Auditing Allocative Bias\n",
    "author: Kent Canonigo\n",
    "date: '2023-04-03'\n",
    "image: \"cover.jpg\"\n",
    "description: \"This is my experimentation for a machine learning model onto individual characteristics given a dataset from the American Community Survey’s Public Use Microdata Sample (PUMS). Then, I'll conduct a fairness audit to assess whether my algorithm possesses bias with respect to demographic characteristics.\"\n",
    "format: html\n",
    "---"
   ]
  },
  {
   "cell_type": "markdown",
   "id": "5fe61b6b-c141-49ef-b476-73e538ebe826",
   "metadata": {},
   "source": [
    "# Data Wrangling"
   ]
  },
  {
   "cell_type": "markdown",
   "id": "c3c3d67c-d1d6-4870-a0e2-32aed0e5a923",
   "metadata": {},
   "source": [
    "For this analysis, I've chosen to pull the 2018 PUMS data from the state of Illinois. "
   ]
  },
  {
   "cell_type": "code",
   "execution_count": 1,
   "id": "b12a90e6-ea93-4f06-ad9b-af6c763b65a6",
   "metadata": {},
   "outputs": [],
   "source": [
    "from folktables import ACSDataSource, ACSEmployment, BasicProblem, adult_filter\n",
    "import numpy as np\n",
    "\n",
    "STATE = \"IL\"\n",
    "\n",
    "data_source = ACSDataSource(survey_year='2018', \n",
    "                            horizon='1-Year', \n",
    "                            survey='person')\n",
    "\n",
    "acs_data = data_source.get_data(states=[STATE], download=True)"
   ]
  },
  {
   "cell_type": "code",
   "execution_count": 2,
   "id": "802d24f3-4848-418a-9a33-b0149fc127c6",
   "metadata": {},
   "outputs": [
    {
     "data": {
      "text/html": [
       "<div>\n",
       "<style scoped>\n",
       "    .dataframe tbody tr th:only-of-type {\n",
       "        vertical-align: middle;\n",
       "    }\n",
       "\n",
       "    .dataframe tbody tr th {\n",
       "        vertical-align: top;\n",
       "    }\n",
       "\n",
       "    .dataframe thead th {\n",
       "        text-align: right;\n",
       "    }\n",
       "</style>\n",
       "<table border=\"1\" class=\"dataframe\">\n",
       "  <thead>\n",
       "    <tr style=\"text-align: right;\">\n",
       "      <th></th>\n",
       "      <th>AGEP</th>\n",
       "      <th>COW</th>\n",
       "      <th>SCHL</th>\n",
       "      <th>MAR</th>\n",
       "      <th>OCCP</th>\n",
       "      <th>POBP</th>\n",
       "      <th>RELP</th>\n",
       "      <th>WKHP</th>\n",
       "      <th>RAC1P</th>\n",
       "      <th>SEX</th>\n",
       "      <th>PINCP</th>\n",
       "    </tr>\n",
       "  </thead>\n",
       "  <tbody>\n",
       "    <tr>\n",
       "      <th>0</th>\n",
       "      <td>86</td>\n",
       "      <td>NaN</td>\n",
       "      <td>16.0</td>\n",
       "      <td>2</td>\n",
       "      <td>NaN</td>\n",
       "      <td>17</td>\n",
       "      <td>16</td>\n",
       "      <td>NaN</td>\n",
       "      <td>1</td>\n",
       "      <td>2</td>\n",
       "      <td>22200.0</td>\n",
       "    </tr>\n",
       "    <tr>\n",
       "      <th>1</th>\n",
       "      <td>30</td>\n",
       "      <td>1.0</td>\n",
       "      <td>18.0</td>\n",
       "      <td>5</td>\n",
       "      <td>4220.0</td>\n",
       "      <td>22</td>\n",
       "      <td>17</td>\n",
       "      <td>99.0</td>\n",
       "      <td>1</td>\n",
       "      <td>2</td>\n",
       "      <td>15000.0</td>\n",
       "    </tr>\n",
       "    <tr>\n",
       "      <th>2</th>\n",
       "      <td>57</td>\n",
       "      <td>NaN</td>\n",
       "      <td>19.0</td>\n",
       "      <td>5</td>\n",
       "      <td>NaN</td>\n",
       "      <td>17</td>\n",
       "      <td>17</td>\n",
       "      <td>NaN</td>\n",
       "      <td>2</td>\n",
       "      <td>1</td>\n",
       "      <td>0.0</td>\n",
       "    </tr>\n",
       "    <tr>\n",
       "      <th>3</th>\n",
       "      <td>69</td>\n",
       "      <td>1.0</td>\n",
       "      <td>19.0</td>\n",
       "      <td>3</td>\n",
       "      <td>1551.0</td>\n",
       "      <td>20</td>\n",
       "      <td>16</td>\n",
       "      <td>NaN</td>\n",
       "      <td>1</td>\n",
       "      <td>1</td>\n",
       "      <td>21600.0</td>\n",
       "    </tr>\n",
       "    <tr>\n",
       "      <th>4</th>\n",
       "      <td>18</td>\n",
       "      <td>3.0</td>\n",
       "      <td>18.0</td>\n",
       "      <td>5</td>\n",
       "      <td>2350.0</td>\n",
       "      <td>6</td>\n",
       "      <td>17</td>\n",
       "      <td>NaN</td>\n",
       "      <td>2</td>\n",
       "      <td>1</td>\n",
       "      <td>350.0</td>\n",
       "    </tr>\n",
       "    <tr>\n",
       "      <th>...</th>\n",
       "      <td>...</td>\n",
       "      <td>...</td>\n",
       "      <td>...</td>\n",
       "      <td>...</td>\n",
       "      <td>...</td>\n",
       "      <td>...</td>\n",
       "      <td>...</td>\n",
       "      <td>...</td>\n",
       "      <td>...</td>\n",
       "      <td>...</td>\n",
       "      <td>...</td>\n",
       "    </tr>\n",
       "    <tr>\n",
       "      <th>126451</th>\n",
       "      <td>72</td>\n",
       "      <td>NaN</td>\n",
       "      <td>16.0</td>\n",
       "      <td>1</td>\n",
       "      <td>NaN</td>\n",
       "      <td>17</td>\n",
       "      <td>1</td>\n",
       "      <td>NaN</td>\n",
       "      <td>1</td>\n",
       "      <td>1</td>\n",
       "      <td>68800.0</td>\n",
       "    </tr>\n",
       "    <tr>\n",
       "      <th>126452</th>\n",
       "      <td>43</td>\n",
       "      <td>1.0</td>\n",
       "      <td>21.0</td>\n",
       "      <td>1</td>\n",
       "      <td>710.0</td>\n",
       "      <td>210</td>\n",
       "      <td>0</td>\n",
       "      <td>40.0</td>\n",
       "      <td>6</td>\n",
       "      <td>1</td>\n",
       "      <td>89000.0</td>\n",
       "    </tr>\n",
       "    <tr>\n",
       "      <th>126453</th>\n",
       "      <td>39</td>\n",
       "      <td>NaN</td>\n",
       "      <td>21.0</td>\n",
       "      <td>1</td>\n",
       "      <td>NaN</td>\n",
       "      <td>210</td>\n",
       "      <td>1</td>\n",
       "      <td>NaN</td>\n",
       "      <td>6</td>\n",
       "      <td>2</td>\n",
       "      <td>0.0</td>\n",
       "    </tr>\n",
       "    <tr>\n",
       "      <th>126454</th>\n",
       "      <td>7</td>\n",
       "      <td>NaN</td>\n",
       "      <td>4.0</td>\n",
       "      <td>5</td>\n",
       "      <td>NaN</td>\n",
       "      <td>210</td>\n",
       "      <td>2</td>\n",
       "      <td>NaN</td>\n",
       "      <td>6</td>\n",
       "      <td>2</td>\n",
       "      <td>NaN</td>\n",
       "    </tr>\n",
       "    <tr>\n",
       "      <th>126455</th>\n",
       "      <td>5</td>\n",
       "      <td>NaN</td>\n",
       "      <td>1.0</td>\n",
       "      <td>5</td>\n",
       "      <td>NaN</td>\n",
       "      <td>210</td>\n",
       "      <td>2</td>\n",
       "      <td>NaN</td>\n",
       "      <td>6</td>\n",
       "      <td>1</td>\n",
       "      <td>NaN</td>\n",
       "    </tr>\n",
       "  </tbody>\n",
       "</table>\n",
       "<p>126456 rows × 11 columns</p>\n",
       "</div>"
      ],
      "text/plain": [
       "        AGEP  COW  SCHL  MAR    OCCP  POBP  RELP  WKHP  RAC1P  SEX    PINCP\n",
       "0         86  NaN  16.0    2     NaN    17    16   NaN      1    2  22200.0\n",
       "1         30  1.0  18.0    5  4220.0    22    17  99.0      1    2  15000.0\n",
       "2         57  NaN  19.0    5     NaN    17    17   NaN      2    1      0.0\n",
       "3         69  1.0  19.0    3  1551.0    20    16   NaN      1    1  21600.0\n",
       "4         18  3.0  18.0    5  2350.0     6    17   NaN      2    1    350.0\n",
       "...      ...  ...   ...  ...     ...   ...   ...   ...    ...  ...      ...\n",
       "126451    72  NaN  16.0    1     NaN    17     1   NaN      1    1  68800.0\n",
       "126452    43  1.0  21.0    1   710.0   210     0  40.0      6    1  89000.0\n",
       "126453    39  NaN  21.0    1     NaN   210     1   NaN      6    2      0.0\n",
       "126454     7  NaN   4.0    5     NaN   210     2   NaN      6    2      NaN\n",
       "126455     5  NaN   1.0    5     NaN   210     2   NaN      6    1      NaN\n",
       "\n",
       "[126456 rows x 11 columns]"
      ]
     },
     "execution_count": 2,
     "metadata": {},
     "output_type": "execute_result"
    }
   ],
   "source": [
    "# Reducing number of features\n",
    "possible_features=['AGEP', 'COW', 'SCHL', 'MAR', 'OCCP', 'POBP', 'RELP', 'WKHP', 'RAC1P', 'SEX', 'PINCP']\n",
    "acs_data[possible_features]"
   ]
  },
  {
   "cell_type": "code",
   "execution_count": 3,
   "id": "a2bcc40f-2d72-4ad7-9ffb-334a71a268ba",
   "metadata": {},
   "outputs": [],
   "source": [
    "features_to_use = [f for f in possible_features if f not in [\"PINCP\", \"SEX\"]]"
   ]
  },
  {
   "cell_type": "markdown",
   "id": "fb301687-df7b-4885-b39a-08bbaf64f1e0",
   "metadata": {},
   "source": [
    "Below is a preprocessing step to filter our data in corresponding to the literature's filters over the variables `AGEP` (age), `PINCP` (total income), `WKHP` (usual hours worked in the last 12 months), and `PWGTP` (individual's weight). "
   ]
  },
  {
   "cell_type": "code",
   "execution_count": 4,
   "id": "0c52c653-f5da-4191-b403-2edaa0089e77",
   "metadata": {},
   "outputs": [],
   "source": [
    "# source code taken from folktables PUMS problem constructions\n",
    "def adult_filter(data):\n",
    "    \"\"\"Mimic the filters in place for Adult data.\n",
    "    Adult documentation notes: Extraction was done by Barry Becker from\n",
    "    the 1994 Census database. A set of reasonably clean records was extracted\n",
    "    using the following conditions:\n",
    "    ((AAGE>16) && (AGI>100) && (AFNLWGT>1)&& (HRSWK>0))\n",
    "    \"\"\"\n",
    "    df = data\n",
    "    df = df[df['AGEP'] > 16]\n",
    "    df = df[df['PINCP'] > 100]\n",
    "    df = df[df['WKHP'] > 0]\n",
    "    df = df[df['PWGTP'] >= 1]\n",
    "    return df"
   ]
  },
  {
   "cell_type": "code",
   "execution_count": 5,
   "id": "39bc9632-7009-44cc-a4d4-96fb26a3264c",
   "metadata": {},
   "outputs": [],
   "source": [
    "# Transform our IncomeProblem to a BasicProblem to minimize features we would like to use\n",
    "IncomeProblem = BasicProblem(\n",
    "    features=features_to_use,\n",
    "    target='PINCP',\n",
    "    target_transform=lambda x: 1*(x > 50000),\n",
    "    group='SEX',\n",
    "    preprocess= adult_filter,\n",
    "    postprocess=lambda x: np.nan_to_num(x, -1),\n",
    ")\n",
    "\n",
    "features, label, group = IncomeProblem.df_to_numpy(acs_data)"
   ]
  },
  {
   "cell_type": "code",
   "execution_count": 6,
   "id": "32ba2417-eb05-4fea-914d-74ea1de84925",
   "metadata": {},
   "outputs": [],
   "source": [
    "# Split our data into test and train sets \n",
    "from sklearn.model_selection import train_test_split\n",
    "X_train, X_test, y_train, y_test, group_train, group_test = train_test_split(\n",
    "    features, label, group, test_size=0.2, random_state=0)"
   ]
  },
  {
   "cell_type": "markdown",
   "id": "8318813a-f602-4350-850f-38b9d3e5fc69",
   "metadata": {},
   "source": [
    "# Prediction Problem"
   ]
  },
  {
   "cell_type": "markdown",
   "id": "19b9efaf-ad20-436d-a8a5-76be73b70824",
   "metadata": {},
   "source": [
    "My prediction problem will be predicting whether income is over $50k on the basis of demographics *excluding* sex and auditing for gender bias. I will be choosing to use a `DecisionTree` model for this analysis."
   ]
  },
  {
   "cell_type": "markdown",
   "id": "56d6b3ca-3027-46e6-81da-ccc28e92231f",
   "metadata": {},
   "source": [
    "## Basic Descriptives"
   ]
  },
  {
   "cell_type": "code",
   "execution_count": 87,
   "id": "3eb1811f-6a17-4364-a802-6a68a487e3f9",
   "metadata": {},
   "outputs": [
    {
     "data": {
      "text/html": [
       "<div>\n",
       "<style scoped>\n",
       "    .dataframe tbody tr th:only-of-type {\n",
       "        vertical-align: middle;\n",
       "    }\n",
       "\n",
       "    .dataframe tbody tr th {\n",
       "        vertical-align: top;\n",
       "    }\n",
       "\n",
       "    .dataframe thead th {\n",
       "        text-align: right;\n",
       "    }\n",
       "</style>\n",
       "<table border=\"1\" class=\"dataframe\">\n",
       "  <thead>\n",
       "    <tr style=\"text-align: right;\">\n",
       "      <th></th>\n",
       "      <th>AGEP</th>\n",
       "      <th>COW</th>\n",
       "      <th>SCHL</th>\n",
       "      <th>MAR</th>\n",
       "      <th>OCCP</th>\n",
       "      <th>POBP</th>\n",
       "      <th>RELP</th>\n",
       "      <th>WKHP</th>\n",
       "      <th>RAC1P</th>\n",
       "      <th>group</th>\n",
       "      <th>label</th>\n",
       "    </tr>\n",
       "  </thead>\n",
       "  <tbody>\n",
       "    <tr>\n",
       "      <th>0</th>\n",
       "      <td>48.0</td>\n",
       "      <td>1.0</td>\n",
       "      <td>20.0</td>\n",
       "      <td>1.0</td>\n",
       "      <td>3515.0</td>\n",
       "      <td>17.0</td>\n",
       "      <td>1.0</td>\n",
       "      <td>40.0</td>\n",
       "      <td>1.0</td>\n",
       "      <td>2</td>\n",
       "      <td>0</td>\n",
       "    </tr>\n",
       "    <tr>\n",
       "      <th>1</th>\n",
       "      <td>49.0</td>\n",
       "      <td>1.0</td>\n",
       "      <td>21.0</td>\n",
       "      <td>1.0</td>\n",
       "      <td>850.0</td>\n",
       "      <td>17.0</td>\n",
       "      <td>1.0</td>\n",
       "      <td>40.0</td>\n",
       "      <td>1.0</td>\n",
       "      <td>1</td>\n",
       "      <td>1</td>\n",
       "    </tr>\n",
       "    <tr>\n",
       "      <th>2</th>\n",
       "      <td>44.0</td>\n",
       "      <td>1.0</td>\n",
       "      <td>1.0</td>\n",
       "      <td>1.0</td>\n",
       "      <td>4251.0</td>\n",
       "      <td>303.0</td>\n",
       "      <td>12.0</td>\n",
       "      <td>40.0</td>\n",
       "      <td>1.0</td>\n",
       "      <td>1</td>\n",
       "      <td>0</td>\n",
       "    </tr>\n",
       "    <tr>\n",
       "      <th>3</th>\n",
       "      <td>46.0</td>\n",
       "      <td>1.0</td>\n",
       "      <td>23.0</td>\n",
       "      <td>1.0</td>\n",
       "      <td>440.0</td>\n",
       "      <td>17.0</td>\n",
       "      <td>0.0</td>\n",
       "      <td>40.0</td>\n",
       "      <td>1.0</td>\n",
       "      <td>2</td>\n",
       "      <td>1</td>\n",
       "    </tr>\n",
       "    <tr>\n",
       "      <th>4</th>\n",
       "      <td>36.0</td>\n",
       "      <td>1.0</td>\n",
       "      <td>16.0</td>\n",
       "      <td>1.0</td>\n",
       "      <td>5610.0</td>\n",
       "      <td>17.0</td>\n",
       "      <td>1.0</td>\n",
       "      <td>60.0</td>\n",
       "      <td>1.0</td>\n",
       "      <td>1</td>\n",
       "      <td>0</td>\n",
       "    </tr>\n",
       "    <tr>\n",
       "      <th>...</th>\n",
       "      <td>...</td>\n",
       "      <td>...</td>\n",
       "      <td>...</td>\n",
       "      <td>...</td>\n",
       "      <td>...</td>\n",
       "      <td>...</td>\n",
       "      <td>...</td>\n",
       "      <td>...</td>\n",
       "      <td>...</td>\n",
       "      <td>...</td>\n",
       "      <td>...</td>\n",
       "    </tr>\n",
       "    <tr>\n",
       "      <th>53607</th>\n",
       "      <td>32.0</td>\n",
       "      <td>1.0</td>\n",
       "      <td>20.0</td>\n",
       "      <td>1.0</td>\n",
       "      <td>8740.0</td>\n",
       "      <td>17.0</td>\n",
       "      <td>0.0</td>\n",
       "      <td>48.0</td>\n",
       "      <td>1.0</td>\n",
       "      <td>1</td>\n",
       "      <td>0</td>\n",
       "    </tr>\n",
       "    <tr>\n",
       "      <th>53608</th>\n",
       "      <td>75.0</td>\n",
       "      <td>3.0</td>\n",
       "      <td>22.0</td>\n",
       "      <td>1.0</td>\n",
       "      <td>2320.0</td>\n",
       "      <td>17.0</td>\n",
       "      <td>0.0</td>\n",
       "      <td>7.0</td>\n",
       "      <td>1.0</td>\n",
       "      <td>1</td>\n",
       "      <td>0</td>\n",
       "    </tr>\n",
       "    <tr>\n",
       "      <th>53609</th>\n",
       "      <td>53.0</td>\n",
       "      <td>1.0</td>\n",
       "      <td>16.0</td>\n",
       "      <td>3.0</td>\n",
       "      <td>4220.0</td>\n",
       "      <td>17.0</td>\n",
       "      <td>10.0</td>\n",
       "      <td>6.0</td>\n",
       "      <td>1.0</td>\n",
       "      <td>2</td>\n",
       "      <td>0</td>\n",
       "    </tr>\n",
       "    <tr>\n",
       "      <th>53610</th>\n",
       "      <td>57.0</td>\n",
       "      <td>3.0</td>\n",
       "      <td>16.0</td>\n",
       "      <td>1.0</td>\n",
       "      <td>7000.0</td>\n",
       "      <td>17.0</td>\n",
       "      <td>1.0</td>\n",
       "      <td>50.0</td>\n",
       "      <td>1.0</td>\n",
       "      <td>1</td>\n",
       "      <td>0</td>\n",
       "    </tr>\n",
       "    <tr>\n",
       "      <th>53611</th>\n",
       "      <td>37.0</td>\n",
       "      <td>3.0</td>\n",
       "      <td>17.0</td>\n",
       "      <td>1.0</td>\n",
       "      <td>3945.0</td>\n",
       "      <td>17.0</td>\n",
       "      <td>0.0</td>\n",
       "      <td>40.0</td>\n",
       "      <td>1.0</td>\n",
       "      <td>1</td>\n",
       "      <td>1</td>\n",
       "    </tr>\n",
       "  </tbody>\n",
       "</table>\n",
       "<p>53612 rows × 11 columns</p>\n",
       "</div>"
      ],
      "text/plain": [
       "       AGEP  COW  SCHL  MAR    OCCP   POBP  RELP  WKHP  RAC1P  group  label\n",
       "0      48.0  1.0  20.0  1.0  3515.0   17.0   1.0  40.0    1.0      2      0\n",
       "1      49.0  1.0  21.0  1.0   850.0   17.0   1.0  40.0    1.0      1      1\n",
       "2      44.0  1.0   1.0  1.0  4251.0  303.0  12.0  40.0    1.0      1      0\n",
       "3      46.0  1.0  23.0  1.0   440.0   17.0   0.0  40.0    1.0      2      1\n",
       "4      36.0  1.0  16.0  1.0  5610.0   17.0   1.0  60.0    1.0      1      0\n",
       "...     ...  ...   ...  ...     ...    ...   ...   ...    ...    ...    ...\n",
       "53607  32.0  1.0  20.0  1.0  8740.0   17.0   0.0  48.0    1.0      1      0\n",
       "53608  75.0  3.0  22.0  1.0  2320.0   17.0   0.0   7.0    1.0      1      0\n",
       "53609  53.0  1.0  16.0  3.0  4220.0   17.0  10.0   6.0    1.0      2      0\n",
       "53610  57.0  3.0  16.0  1.0  7000.0   17.0   1.0  50.0    1.0      1      0\n",
       "53611  37.0  3.0  17.0  1.0  3945.0   17.0   0.0  40.0    1.0      1      1\n",
       "\n",
       "[53612 rows x 11 columns]"
      ]
     },
     "execution_count": 87,
     "metadata": {},
     "output_type": "execute_result"
    }
   ],
   "source": [
    "# Convert our data into a dataframe for visualization\n",
    "import pandas as pd\n",
    "df = pd.DataFrame(X_train, columns = features_to_use)\n",
    "df[\"group\"] = group_train\n",
    "df[\"label\"] = y_train\n",
    "\n",
    "df"
   ]
  },
  {
   "cell_type": "markdown",
   "id": "bddbe897-379d-4bd2-8292-b39b76c47d8e",
   "metadata": {},
   "source": [
    "In this dataset, there are 53612 total individuals present."
   ]
  },
  {
   "cell_type": "code",
   "execution_count": 9,
   "id": "558ee286-adec-4847-b00e-c9126634042e",
   "metadata": {},
   "outputs": [
    {
     "data": {
      "text/plain": [
       "0.39455718868909945"
      ]
     },
     "execution_count": 9,
     "metadata": {},
     "output_type": "execute_result"
    }
   ],
   "source": [
    "# Calculate the proportion of individuals who have an income of over $50k\n",
    "df[\"label\"].mean()"
   ]
  },
  {
   "cell_type": "markdown",
   "id": "ede6d072-522e-4cf1-8fcb-7ecae4811863",
   "metadata": {},
   "source": [
    "Additionally, of the 53612 individuals in the data, only about $39.5$% of the individuas have an income of over $50k. "
   ]
  },
  {
   "cell_type": "code",
   "execution_count": 10,
   "id": "82ea6c55-c4a9-4fce-9963-5f9613f93682",
   "metadata": {},
   "outputs": [
    {
     "data": {
      "text/html": [
       "<div>\n",
       "<style scoped>\n",
       "    .dataframe tbody tr th:only-of-type {\n",
       "        vertical-align: middle;\n",
       "    }\n",
       "\n",
       "    .dataframe tbody tr th {\n",
       "        vertical-align: top;\n",
       "    }\n",
       "\n",
       "    .dataframe thead th {\n",
       "        text-align: right;\n",
       "    }\n",
       "</style>\n",
       "<table border=\"1\" class=\"dataframe\">\n",
       "  <thead>\n",
       "    <tr style=\"text-align: right;\">\n",
       "      <th></th>\n",
       "      <th>group</th>\n",
       "      <th>total</th>\n",
       "    </tr>\n",
       "  </thead>\n",
       "  <tbody>\n",
       "    <tr>\n",
       "      <th>0</th>\n",
       "      <td>1</td>\n",
       "      <td>27724</td>\n",
       "    </tr>\n",
       "    <tr>\n",
       "      <th>1</th>\n",
       "      <td>2</td>\n",
       "      <td>25888</td>\n",
       "    </tr>\n",
       "  </tbody>\n",
       "</table>\n",
       "</div>"
      ],
      "text/plain": [
       "   group  total\n",
       "0      1  27724\n",
       "1      2  25888"
      ]
     },
     "execution_count": 10,
     "metadata": {},
     "output_type": "execute_result"
    }
   ],
   "source": [
    "# Calculate the total individuals per group\n",
    "group_prop = df.groupby(\"group\", as_index = False).size()\n",
    "group_prop.rename(columns = {\"size\" : \"total\"})"
   ]
  },
  {
   "cell_type": "markdown",
   "id": "977777d3-69f5-492c-b2dd-18a13a573c7d",
   "metadata": {},
   "source": [
    "In this data, there are a total of 27724 males and 25888 females identifying folks. "
   ]
  },
  {
   "cell_type": "code",
   "execution_count": 11,
   "id": "be7f76fc-d820-4be7-8d00-16bb8c18604b",
   "metadata": {},
   "outputs": [
    {
     "data": {
      "text/html": [
       "<div>\n",
       "<style scoped>\n",
       "    .dataframe tbody tr th:only-of-type {\n",
       "        vertical-align: middle;\n",
       "    }\n",
       "\n",
       "    .dataframe tbody tr th {\n",
       "        vertical-align: top;\n",
       "    }\n",
       "\n",
       "    .dataframe thead th {\n",
       "        text-align: right;\n",
       "    }\n",
       "</style>\n",
       "<table border=\"1\" class=\"dataframe\">\n",
       "  <thead>\n",
       "    <tr style=\"text-align: right;\">\n",
       "      <th></th>\n",
       "      <th>group</th>\n",
       "      <th>label</th>\n",
       "    </tr>\n",
       "  </thead>\n",
       "  <tbody>\n",
       "    <tr>\n",
       "      <th>0</th>\n",
       "      <td>1</td>\n",
       "      <td>0.478611</td>\n",
       "    </tr>\n",
       "    <tr>\n",
       "      <th>1</th>\n",
       "      <td>2</td>\n",
       "      <td>0.304543</td>\n",
       "    </tr>\n",
       "  </tbody>\n",
       "</table>\n",
       "</div>"
      ],
      "text/plain": [
       "   group     label\n",
       "0      1  0.478611\n",
       "1      2  0.304543"
      ]
     },
     "execution_count": 11,
     "metadata": {},
     "output_type": "execute_result"
    }
   ],
   "source": [
    "group_label = df.groupby([\"group\"], as_index = False)[\"label\"].mean()\n",
    "group_label"
   ]
  },
  {
   "cell_type": "markdown",
   "id": "654da549-5823-4155-8d9a-a4a2fbe7658d",
   "metadata": {},
   "source": [
    "In the `male` group, about $47.9$% of male individuals have an income of over 50k. Whereas in the `female` group, only about $30.5$% of female individuals have an income of over 50k."
   ]
  },
  {
   "cell_type": "markdown",
   "id": "89951104-053f-493b-b495-7ad2af3778e0",
   "metadata": {},
   "source": [
    "Here, we can visualize the intersectional relationship between the proportion of individuals in the `SEX` and `RAC1P` groups who have an income of over $50k."
   ]
  },
  {
   "cell_type": "code",
   "execution_count": 12,
   "id": "ead4be3a-7e43-41ab-a15b-7f035a4767f8",
   "metadata": {},
   "outputs": [],
   "source": [
    "# Compute proportion of positive labels by race and sex\n",
    "race_prop = df.groupby([\"RAC1P\", \"group\"], as_index = False)[\"label\"].mean()"
   ]
  },
  {
   "cell_type": "code",
   "execution_count": 13,
   "id": "3d35117b-f9c1-47a0-bc0b-1f3168344f52",
   "metadata": {},
   "outputs": [
    {
     "data": {
      "image/png": "[encoded data removed]",
      "text/plain": [
       "<Figure size 558.875x500 with 1 Axes>"
      ]
     },
     "metadata": {},
     "output_type": "display_data"
    }
   ],
   "source": [
    "# Visualize positive labels for both and race\n",
    "import matplotlib as mpl\n",
    "import matplotlib.pyplot as plt\n",
    "\n",
    "import seaborn as sns\n",
    "import seaborn.objects as so\n",
    "\n",
    "sns.catplot(data=race_prop, x=\"RAC1P\", y=\"label\", hue=\"group\", kind=\"bar\")\n",
    "\n",
    "# Add labels to title, x and y axis\n",
    "plt.title(\"Distribution of Race and Sex with Income Over $50K\")\n",
    "plt.xlabel(\"Race Group\")\n",
    "plt.ylabel(\"Proportion of Individuals with Income Over $50K\")\n",
    "\n",
    "plt.show()"
   ]
  },
  {
   "cell_type": "markdown",
   "id": "30579780-b4be-4a08-a0af-738b555bb99b",
   "metadata": {},
   "source": [
    "Shown above is a visualization of the different racial groups studied and their proportion of individuals who have an income of over $50k grouped by sex in Illinois. \n",
    "\n",
    "One major observation from the plot is that the `male` sex has a larger proportion of individuals who have an income of over 50k than the `female` sex for all race groups with the exceptions to race groups `4` and `7` — Alaska Natives alone and Native Hawaiian and Other Pacific Islanders, respectively. Alaska Natives alone are also outliers in this plot as both sex groups show zero proportion of all individuals who have an income of over 50k in Illinois; similarly, females in the race group `5` (American Indian and Alaska Native tribes specified, or American Indian or Alaska Native, not specified and no other races) show zero proportion of all individuals who have an income of over 50k.\n",
    "\n",
    "All `RAC1P` groups and other variables used in this analysis are described in the [Appendix](https://arxiv.org/pdf/2108.04884.pdf) here."
   ]
  },
  {
   "cell_type": "markdown",
   "id": "bb6b030d-06cc-4dd5-b835-f2236c74659f",
   "metadata": {
    "tags": []
   },
   "source": [
    "# Training My Model"
   ]
  },
  {
   "cell_type": "markdown",
   "id": "28e01cd3-8351-4b70-b866-5d26d1214282",
   "metadata": {},
   "source": [
    "## Tuning Complexity of DecisionTree"
   ]
  },
  {
   "cell_type": "markdown",
   "id": "48038071-25b6-425d-83a8-a669c3b2cf9b",
   "metadata": {},
   "source": [
    "Now that we've explored our data, we can train a machine learning model to predict the individuals living in Illinos who have an income of over $50k. Using the `DecisionTree` model, I can tune the `depth` using a cross-validation of 10-fold to choose a tree that maximizes the accuracy. \n",
    "\n",
    "For each level complexity of our tree, we can assess its performance and verify which depth we should use for our model."
   ]
  },
  {
   "cell_type": "code",
   "execution_count": 14,
   "id": "3fbb9cdf-fa1d-4c90-967e-3ad138b15309",
   "metadata": {},
   "outputs": [
    {
     "data": {
      "image/png": "[encoded data removed]",
      "text/plain": [
       "<Figure size 640x480 with 1 Axes>"
      ]
     },
     "metadata": {},
     "output_type": "display_data"
    }
   ],
   "source": [
    "# From Classifier Lecture\n",
    "from sklearn.tree import DecisionTreeClassifier, plot_tree\n",
    "from sklearn.model_selection import cross_val_score\n",
    "\n",
    "np.random.seed(12345)\n",
    "\n",
    "fig, ax = plt.subplots(1)\n",
    "\n",
    "# Plotting each of the complexity and its performance \n",
    "for d in range(2, 15):\n",
    "    T = DecisionTreeClassifier(max_depth = d)\n",
    "    m = cross_val_score(T, X_train, y_train, cv = 10).mean()\n",
    "    ax.scatter(d, m, color = \"black\")\n",
    "\n",
    "labs = ax.set(xlabel = \"Complexity (depth)\", \n",
    "              ylabel = \"Performance (score)\", \n",
    "              title = \"Performance (score) vs Complexity (depth) of DecisionTreeClassifier\")"
   ]
  },
  {
   "cell_type": "markdown",
   "id": "9645fc54-d4b9-40d3-b7a3-fe6dcea387c6",
   "metadata": {},
   "source": [
    "From the plot, it is observed that a complexity of roughly 11 is the best for the data set which maximizes the performance of the DecisionTreeClassifier. "
   ]
  },
  {
   "cell_type": "code",
   "execution_count": 15,
   "id": "4b5da4d4-d363-41c6-906f-8addd686bf73",
   "metadata": {},
   "outputs": [],
   "source": [
    "from sklearn.pipeline import make_pipeline\n",
    "from sklearn.preprocessing import StandardScaler"
   ]
  },
  {
   "cell_type": "markdown",
   "id": "c036f5ad-699f-4ead-a903-de5ab042556b",
   "metadata": {},
   "source": [
    "We can now train our model and fit it over the testing set:"
   ]
  },
  {
   "cell_type": "code",
   "execution_count": 16,
   "id": "850b823f-30b4-42ae-bf79-089cb8baf86e",
   "metadata": {},
   "outputs": [
    {
     "data": {
      "text/html": [
       "<style>#sk-container-id-1 {color: black;background-color: white;}#sk-container-id-1 pre{padding: 0;}#sk-container-id-1 div.sk-toggleable {background-color: white;}#sk-container-id-1 label.sk-toggleable__label {cursor: pointer;display: block;width: 100%;margin-bottom: 0;padding: 0.3em;box-sizing: border-box;text-align: center;}#sk-container-id-1 label.sk-toggleable__label-arrow:before {content: \"▸\";float: left;margin-right: 0.25em;color: #696969;}#sk-container-id-1 label.sk-toggleable__label-arrow:hover:before {color: black;}#sk-container-id-1 div.sk-estimator:hover label.sk-toggleable__label-arrow:before {color: black;}#sk-container-id-1 div.sk-toggleable__content {max-height: 0;max-width: 0;overflow: hidden;text-align: left;background-color: #f0f8ff;}#sk-container-id-1 div.sk-toggleable__content pre {margin: 0.2em;color: black;border-radius: 0.25em;background-color: #f0f8ff;}#sk-container-id-1 input.sk-toggleable__control:checked~div.sk-toggleable__content {max-height: 200px;max-width: 100%;overflow: auto;}#sk-container-id-1 input.sk-toggleable__control:checked~label.sk-toggleable__label-arrow:before {content: \"▾\";}#sk-container-id-1 div.sk-estimator input.sk-toggleable__control:checked~label.sk-toggleable__label {background-color: #d4ebff;}#sk-container-id-1 div.sk-label input.sk-toggleable__control:checked~label.sk-toggleable__label {background-color: #d4ebff;}#sk-container-id-1 input.sk-hidden--visually {border: 0;clip: rect(1px 1px 1px 1px);clip: rect(1px, 1px, 1px, 1px);height: 1px;margin: -1px;overflow: hidden;padding: 0;position: absolute;width: 1px;}#sk-container-id-1 div.sk-estimator {font-family: monospace;background-color: #f0f8ff;border: 1px dotted black;border-radius: 0.25em;box-sizing: border-box;margin-bottom: 0.5em;}#sk-container-id-1 div.sk-estimator:hover {background-color: #d4ebff;}#sk-container-id-1 div.sk-parallel-item::after {content: \"\";width: 100%;border-bottom: 1px solid gray;flex-grow: 1;}#sk-container-id-1 div.sk-label:hover label.sk-toggleable__label {background-color: #d4ebff;}#sk-container-id-1 div.sk-serial::before {content: \"\";position: absolute;border-left: 1px solid gray;box-sizing: border-box;top: 0;bottom: 0;left: 50%;z-index: 0;}#sk-container-id-1 div.sk-serial {display: flex;flex-direction: column;align-items: center;background-color: white;padding-right: 0.2em;padding-left: 0.2em;position: relative;}#sk-container-id-1 div.sk-item {position: relative;z-index: 1;}#sk-container-id-1 div.sk-parallel {display: flex;align-items: stretch;justify-content: center;background-color: white;position: relative;}#sk-container-id-1 div.sk-item::before, #sk-container-id-1 div.sk-parallel-item::before {content: \"\";position: absolute;border-left: 1px solid gray;box-sizing: border-box;top: 0;bottom: 0;left: 50%;z-index: -1;}#sk-container-id-1 div.sk-parallel-item {display: flex;flex-direction: column;z-index: 1;position: relative;background-color: white;}#sk-container-id-1 div.sk-parallel-item:first-child::after {align-self: flex-end;width: 50%;}#sk-container-id-1 div.sk-parallel-item:last-child::after {align-self: flex-start;width: 50%;}#sk-container-id-1 div.sk-parallel-item:only-child::after {width: 0;}#sk-container-id-1 div.sk-dashed-wrapped {border: 1px dashed gray;margin: 0 0.4em 0.5em 0.4em;box-sizing: border-box;padding-bottom: 0.4em;background-color: white;}#sk-container-id-1 div.sk-label label {font-family: monospace;font-weight: bold;display: inline-block;line-height: 1.2em;}#sk-container-id-1 div.sk-label-container {text-align: center;}#sk-container-id-1 div.sk-container {/* jupyter's `normalize.less` sets `[hidden] { display: none; }` but bootstrap.min.css set `[hidden] { display: none !important; }` so we also need the `!important` here to be able to override the default hidden behavior on the sphinx rendered scikit-learn.org. See: https://github.com/scikit-learn/scikit-learn/issues/21755 */display: inline-block !important;position: relative;}#sk-container-id-1 div.sk-text-repr-fallback {display: none;}</style><div id=\"sk-container-id-1\" class=\"sk-top-container\"><div class=\"sk-text-repr-fallback\"><pre>Pipeline(steps=[(&#x27;standardscaler&#x27;, StandardScaler()),\n",
       "                (&#x27;decisiontreeclassifier&#x27;,\n",
       "                 DecisionTreeClassifier(max_depth=11))])</pre><b>In a Jupyter environment, please rerun this cell to show the HTML representation or trust the notebook. <br />On GitHub, the HTML representation is unable to render, please try loading this page with nbviewer.org.</b></div><div class=\"sk-container\" hidden><div class=\"sk-item sk-dashed-wrapped\"><div class=\"sk-label-container\"><div class=\"sk-label sk-toggleable\"><input class=\"sk-toggleable__control sk-hidden--visually\" id=\"sk-estimator-id-1\" type=\"checkbox\" ><label for=\"sk-estimator-id-1\" class=\"sk-toggleable__label sk-toggleable__label-arrow\">Pipeline</label><div class=\"sk-toggleable__content\"><pre>Pipeline(steps=[(&#x27;standardscaler&#x27;, StandardScaler()),\n",
       "                (&#x27;decisiontreeclassifier&#x27;,\n",
       "                 DecisionTreeClassifier(max_depth=11))])</pre></div></div></div><div class=\"sk-serial\"><div class=\"sk-item\"><div class=\"sk-estimator sk-toggleable\"><input class=\"sk-toggleable__control sk-hidden--visually\" id=\"sk-estimator-id-2\" type=\"checkbox\" ><label for=\"sk-estimator-id-2\" class=\"sk-toggleable__label sk-toggleable__label-arrow\">StandardScaler</label><div class=\"sk-toggleable__content\"><pre>StandardScaler()</pre></div></div></div><div class=\"sk-item\"><div class=\"sk-estimator sk-toggleable\"><input class=\"sk-toggleable__control sk-hidden--visually\" id=\"sk-estimator-id-3\" type=\"checkbox\" ><label for=\"sk-estimator-id-3\" class=\"sk-toggleable__label sk-toggleable__label-arrow\">DecisionTreeClassifier</label><div class=\"sk-toggleable__content\"><pre>DecisionTreeClassifier(max_depth=11)</pre></div></div></div></div></div></div></div>"
      ],
      "text/plain": [
       "Pipeline(steps=[('standardscaler', StandardScaler()),\n",
       "                ('decisiontreeclassifier',\n",
       "                 DecisionTreeClassifier(max_depth=11))])"
      ]
     },
     "execution_count": 16,
     "metadata": {},
     "output_type": "execute_result"
    }
   ],
   "source": [
    "model = make_pipeline(StandardScaler(), DecisionTreeClassifier(max_depth = 11))\n",
    "model.fit(X_train, y_train)"
   ]
  },
  {
   "cell_type": "markdown",
   "id": "32a5c398-e7fa-4f0a-9d95-4763cb25765e",
   "metadata": {
    "tags": []
   },
   "source": [
    "# Auditing My Model"
   ]
  },
  {
   "cell_type": "markdown",
   "id": "7b4526fc-1a65-4f08-8907-602f0470de40",
   "metadata": {},
   "source": [
    "Now that we've trained and fit our model, we can perform an audit for gender bias over the test data with the `SEX` group and our `PINCP` label."
   ]
  },
  {
   "cell_type": "markdown",
   "id": "129072ac-c778-4408-8dac-4ca82c251558",
   "metadata": {},
   "source": [
    "## Overall Measures"
   ]
  },
  {
   "cell_type": "markdown",
   "id": "686bc0d2-434a-49c1-976a-32db07d81b19",
   "metadata": {},
   "source": [
    "### Overall Accuracy"
   ]
  },
  {
   "cell_type": "code",
   "execution_count": 91,
   "id": "7f342ef5-aff2-48d7-ac5f-9a95de6d5912",
   "metadata": {},
   "outputs": [],
   "source": [
    "# Generate predictions based off model\n",
    "y_hat = model.predict(X_test)"
   ]
  },
  {
   "cell_type": "markdown",
   "id": "94175c8e-b3d1-4f01-8797-bd2fc4201e05",
   "metadata": {},
   "source": [
    "The overall accuracy in predicting whether an individual has an income of over $50k is:  "
   ]
  },
  {
   "cell_type": "code",
   "execution_count": 18,
   "id": "9cc61ac8-81d0-4235-b8e8-6f19dcd2ba7b",
   "metadata": {},
   "outputs": [
    {
     "data": {
      "text/plain": [
       "0.7805132796180245"
      ]
     },
     "execution_count": 18,
     "metadata": {},
     "output_type": "execute_result"
    }
   ],
   "source": [
    "total_acc = (y_hat == y_test).mean()\n",
    "total_acc"
   ]
  },
  {
   "cell_type": "markdown",
   "id": "f56b46ba-11d2-4225-9200-f325fc0a3fae",
   "metadata": {},
   "source": [
    "Thus, our model achieved a $78$% accuracy in predicting whether a individual has an income of over $50k in Illinois. "
   ]
  },
  {
   "cell_type": "markdown",
   "id": "1ddda431-8db6-424d-aff9-698f98d35e72",
   "metadata": {},
   "source": [
    "### Positive Predictive Value (PPV)"
   ]
  },
  {
   "cell_type": "code",
   "execution_count": 19,
   "id": "545c1295-9a7b-46d4-a4cb-03095557e956",
   "metadata": {},
   "outputs": [
    {
     "data": {
      "text/plain": [
       "array([[0.80999511, 0.19000489],\n",
       "       [0.26570881, 0.73429119]])"
      ]
     },
     "execution_count": 19,
     "metadata": {},
     "output_type": "execute_result"
    }
   ],
   "source": [
    "from sklearn.metrics import confusion_matrix\n",
    "# Compute the confusion matrix for the model\n",
    "cm = confusion_matrix(y_test, y_hat, normalize = \"true\")\n",
    "\n",
    "# Extract PPV, FPR, and FNR\n",
    "ppv = cm[0][0]\n",
    "fpr = cm[0][1]\n",
    "fnr = cm[1][0]\n",
    "\n",
    "cm"
   ]
  },
  {
   "cell_type": "markdown",
   "id": "2f000257-c263-4d73-8ff5-87776355ebf8",
   "metadata": {},
   "source": [
    "The positive predictive value (PPV) can be calculated given the equation:\n",
    "\n",
    "$$PPV = \\frac{TP}{TP + FP}$$\n",
    "\n",
    "Fortunately, our confusion matrix does this calculation for us! As shown in the top left corner of the confusion matrix of the overall PPV of our model is about $81$%. "
   ]
  },
  {
   "cell_type": "markdown",
   "id": "096cde58-4bdb-4508-bf62-3aeef28c743d",
   "metadata": {},
   "source": [
    "Hence, of the total population of the dataset, about $81$% of individuals who reside in Illinois who does have an income of over $50k is true. "
   ]
  },
  {
   "cell_type": "markdown",
   "id": "13ae6432-c2fc-46f2-9c62-16ba57ef29f6",
   "metadata": {},
   "source": [
    "### False Negative Rate (FNR) and False Positive Rate (FPR)"
   ]
  },
  {
   "cell_type": "markdown",
   "id": "9f05d2c3-19d0-4f96-bd8b-6ecb961fd224",
   "metadata": {},
   "source": [
    "Similarly, we can extract the overall FNR and FPR of our model without having to compute its respective formulas using the confusion matrix. The FNR (shown in the bottom left corner) is about $27$%, and the FPR (shown in the top righ corner) is about $19$%. "
   ]
  },
  {
   "cell_type": "markdown",
   "id": "41413ed2-0609-4568-a5f2-ef03e303391c",
   "metadata": {},
   "source": [
    "Our model has a FNR of about $27$% which suggests that the model is classifying individuals with income of over $50k as having an income below the threshold nearly a third of the time. "
   ]
  },
  {
   "cell_type": "markdown",
   "id": "a6707a86-a137-4204-b4d5-e2622374d914",
   "metadata": {},
   "source": [
    "Furthermore, our model has a FPR of about $19$% which suggests that the model is classifying individuals with income below $50k as having an income above the threshold about 19% of the time. "
   ]
  },
  {
   "cell_type": "markdown",
   "id": "7567c983-b14c-44bc-ac8a-99d1b8008287",
   "metadata": {},
   "source": [
    "Now that we've audited our overall model, we can check if similar measures are observed for both male and female groups."
   ]
  },
  {
   "cell_type": "markdown",
   "id": "47e8e25f-1996-4012-a369-3f7cb29f1b82",
   "metadata": {},
   "source": [
    "## By-Group Measures"
   ]
  },
  {
   "cell_type": "markdown",
   "id": "041e6990-2c97-4a35-9383-873100c9d368",
   "metadata": {},
   "source": [
    "We can further our audit analysis by checking the previous measures for each group `male` and `female` who makes an income of over $50k."
   ]
  },
  {
   "cell_type": "markdown",
   "id": "00520deb-15c1-426c-bd35-52c506581a3b",
   "metadata": {
    "tags": []
   },
   "source": [
    "### Male Individuals "
   ]
  },
  {
   "cell_type": "markdown",
   "id": "c8b888d2-046c-4d39-91e1-2f0d66295355",
   "metadata": {},
   "source": [
    "Here is the confusion matrix for `male` individuals in Illinois who make an income of over $50k:"
   ]
  },
  {
   "cell_type": "code",
   "execution_count": 20,
   "id": "c81569bc-ff49-48a7-b2a3-c935ca4aae92",
   "metadata": {},
   "outputs": [
    {
     "data": {
      "text/plain": [
       "array([[0.77290287, 0.22709713],\n",
       "       [0.25985222, 0.74014778]])"
      ]
     },
     "execution_count": 20,
     "metadata": {},
     "output_type": "execute_result"
    }
   ],
   "source": [
    "mcm = confusion_matrix(y_test[group_test == 1], y_hat[group_test == 1], normalize = \"true\")\n",
    "\n",
    "# Extract PPV, FPR, and FNR\n",
    "mppv = mcm[0][0]\n",
    "mfpr = mcm[0][1]\n",
    "mfnr = mcm[1][0]\n",
    "\n",
    "mcm"
   ]
  },
  {
   "cell_type": "markdown",
   "id": "fe383a38-2b2f-438f-8f80-841efd988f1a",
   "metadata": {},
   "source": [
    "#### Male Accuracy"
   ]
  },
  {
   "cell_type": "code",
   "execution_count": 21,
   "id": "e9c3f9d0-bbeb-49f7-ad4a-6585ed787122",
   "metadata": {},
   "outputs": [
    {
     "data": {
      "text/plain": [
       "0.7574214202561118"
      ]
     },
     "execution_count": 21,
     "metadata": {},
     "output_type": "execute_result"
    }
   ],
   "source": [
    "male_acc = (y_hat == y_test)[group_test == 1].mean()\n",
    "male_acc"
   ]
  },
  {
   "cell_type": "markdown",
   "id": "1668e5c5-60c1-47bf-952f-fc6372995e3b",
   "metadata": {},
   "source": [
    "Our model correctly predicts whether a `male` individual in Illinois has an income of over $50k about 76% of the time."
   ]
  },
  {
   "cell_type": "markdown",
   "id": "787d720c-754d-4e33-b9b4-ae8b7233a057",
   "metadata": {},
   "source": [
    "#### Positive Predictive Value (PPV)"
   ]
  },
  {
   "cell_type": "markdown",
   "id": "68e19207-df14-488f-8970-f47215f01a6a",
   "metadata": {},
   "source": [
    "The PPV of my model for male individuals is about 77% which suggests that for this population, our model correctly classifies male individuals in Illinois who does have an income of over $50k (true positives) 77% of the time. "
   ]
  },
  {
   "cell_type": "markdown",
   "id": "b8fac36e-0ce7-47fb-9a4f-949bea25aae0",
   "metadata": {
    "tags": []
   },
   "source": [
    "#### False Negative Rate (FNR) and False Positive Rate (FPR)"
   ]
  },
  {
   "cell_type": "markdown",
   "id": "8b8a829e-57ac-415d-a095-379ee0ffc43c",
   "metadata": {},
   "source": [
    "The FNR and FPR of my model for male individuals is about $26$% and $23$%, respectively. \n",
    "\n",
    "Hence, our model does not classify the true positives (male individuals who have an income of over $50k) 26% of the time; in other words, 26% of male individuals who have an income above the 50k threshold are classified as having an income below the threshold. \n",
    "\n",
    "Lastly, given the FPR of nearly 23%, our model incorrectly classifies male individuals who have an income below $50k as true positives nearly 23% of the time."
   ]
  },
  {
   "cell_type": "markdown",
   "id": "6440dcae-48b5-4528-a66b-953cea12b198",
   "metadata": {},
   "source": [
    "### Female Individuals"
   ]
  },
  {
   "cell_type": "markdown",
   "id": "d0eced29-26b7-43fa-99be-a455126cedad",
   "metadata": {},
   "source": [
    "Now, let's check the probability measures for female individuals. Shown below is the confusion matrix for `female` individuals who make an income of over $50k:"
   ]
  },
  {
   "cell_type": "code",
   "execution_count": 22,
   "id": "d53a1274-334f-41b1-93b6-b939e50eb646",
   "metadata": {},
   "outputs": [
    {
     "data": {
      "text/plain": [
       "array([[0.83947368, 0.16052632],\n",
       "       [0.27535497, 0.72464503]])"
      ]
     },
     "execution_count": 22,
     "metadata": {},
     "output_type": "execute_result"
    }
   ],
   "source": [
    "fcm = confusion_matrix(y_test[group_test == 2], y_hat[group_test == 2], normalize = \"true\")\n",
    "\n",
    "# Extract PPV, FPR, and FNR\n",
    "fppv = fcm[0][0]\n",
    "ffpr = fcm[0][1]\n",
    "ffnr = fcm[1][0]\n",
    "\n",
    "fcm"
   ]
  },
  {
   "cell_type": "markdown",
   "id": "1fc2a3ea-a42a-47e2-a171-86529c53388f",
   "metadata": {},
   "source": [
    "#### Female Accuracy"
   ]
  },
  {
   "cell_type": "markdown",
   "id": "232134be-54ea-4ffc-9cc9-6c7c1f20dd0d",
   "metadata": {},
   "source": [
    "The accuracy for predicting whether a `female` individual in Illinois has an income of over $50k is:"
   ]
  },
  {
   "cell_type": "code",
   "execution_count": 23,
   "id": "447d083c-7ed5-48fd-ad85-2149a55a5bf9",
   "metadata": {},
   "outputs": [
    {
     "data": {
      "text/plain": [
       "0.8048071034905082"
      ]
     },
     "execution_count": 23,
     "metadata": {},
     "output_type": "execute_result"
    }
   ],
   "source": [
    "female_acc = (y_hat == y_test)[group_test == 2].mean()\n",
    "female_acc"
   ]
  },
  {
   "cell_type": "markdown",
   "id": "6f61c93c-7e57-4f4b-b98e-28a4d6c9e1a5",
   "metadata": {},
   "source": [
    "Our model correctly predicts whether a `female` individual has an income of over $50k about 80% of the time."
   ]
  },
  {
   "cell_type": "markdown",
   "id": "a2d7c3a8-60ad-4f6b-b1da-fa379af661c7",
   "metadata": {},
   "source": [
    "#### Positive Predictive Value (PPV)"
   ]
  },
  {
   "cell_type": "markdown",
   "id": "27fbf20b-394e-444e-8378-d49ce22bd5b0",
   "metadata": {},
   "source": [
    "Observing the confusion matrix for the `female` group, we can see that the PPV of our model is about $84$%. \n",
    "\n",
    "Hence, our model classifies the true positives, female individuals who does have an income of over $50k, as true nearly 84% of the time. "
   ]
  },
  {
   "cell_type": "markdown",
   "id": "36fafffc-5160-42bb-b742-6e0c30b6f51e",
   "metadata": {},
   "source": [
    "#### False Negative Rate (FNR) and False Positive Rate (FPR)"
   ]
  },
  {
   "cell_type": "markdown",
   "id": "bb6a7c81-f257-4dfe-a08e-93acffe41c99",
   "metadata": {},
   "source": [
    "Our model displays the FNR and FPR for female individuals to be about 27% and 16%, respectively. \n",
    "\n",
    "Hence, our model does not classify the true positives (female individuals who have an income of over $50k) 27% of the time; in other words, 27% of female individuals who have an income above the 50k threshold are classified as having an income below the threshold. \n",
    "\n",
    "Lastly, given the FPR of about 16%, our model incorrectly classifies female individuals who have an income below $50k as true positives about 16% of the time."
   ]
  },
  {
   "cell_type": "markdown",
   "id": "4a45d229-b0f0-42b5-b17e-1a4f3fc8a821",
   "metadata": {},
   "source": [
    "#### Comparison "
   ]
  },
  {
   "cell_type": "markdown",
   "id": "8fa67e52-6ff7-422a-a67a-081f685bcddd",
   "metadata": {},
   "source": [
    "After auditing for both groups, we observe that both `male` and `female` groups have a similar `FNR` which suggests that the model is incorrectly missing a similar proportion of individuals in Illinois who have an income above $50k (but slightly higher for female individuals).\n",
    "\n",
    "However, the `FPR` for the female group is lower than the male group. Thus, our model is generating fewer false positives for female individuals than male individuals; in other words, for female individuals who have an income below $50k, our model will classify them to belong in the negative class (individuals who have an income below 50k) about 84% of the time — while male individuals are only classified to belong in the negative class about 77% of the time. "
   ]
  },
  {
   "cell_type": "markdown",
   "id": "2fd304a9-1fcc-4406-a453-084b79eb6fd2",
   "metadata": {},
   "source": [
    "Shown below is a visualization of the model's overall measures and of each subgroup's."
   ]
  },
  {
   "cell_type": "code",
   "execution_count": 93,
   "id": "5d0b7555-d3e7-40df-8d28-5d766062213c",
   "metadata": {},
   "outputs": [
    {
     "data": {
      "image/png": "[encoded data removed]",
      "text/plain": [
       "<Figure size 640x480 with 1 Axes>"
      ]
     },
     "metadata": {},
     "output_type": "display_data"
    }
   ],
   "source": [
    "bar_width = 0.2\n",
    "\n",
    "total = [total_acc, ppv, fpr, fnr]\n",
    "male = [male_acc, mppv, mfpr, mfnr]\n",
    "female = [female_acc, fppv, ffpr, ffnr]\n",
    "\n",
    "\n",
    "# Set position of bar on X axis\n",
    "br1 = np.arange(len(total))\n",
    "br2 = [x + bar_width for x in br1]\n",
    "br3 = [x + bar_width for x in br2]\n",
    "\n",
    "# Make the plot\n",
    "plt.bar(br1, total, width = bar_width,\n",
    "        edgecolor ='grey', label ='overall')\n",
    "plt.bar(br2, male, width = bar_width,\n",
    "        edgecolor ='grey', label ='male')\n",
    "plt.bar(br3, female, width = bar_width,\n",
    "        edgecolor ='grey', label ='female')\n",
    "\n",
    "plt.title(\"Distribution of Model's Overall and By-Group Measures\")\n",
    "\n",
    "# Adding Xticks\n",
    "plt.xlabel('Measures', fontsize = 12)\n",
    "plt.ylabel('Probability', fontsize = 12)\n",
    "plt.xticks([r + 0.2 for r in range(len(total))],\n",
    "           ['Accuracy', 'PPV', 'FPR', 'FNR'])\n",
    "\n",
    "legend = plt.legend()\n",
    "plt.show()"
   ]
  },
  {
   "cell_type": "markdown",
   "id": "7b9bb856-849f-4dba-bd45-a2cbf1b08d30",
   "metadata": {},
   "source": [
    "## Bias Measures"
   ]
  },
  {
   "cell_type": "markdown",
   "id": "e3d466a3-3f83-4822-851e-078c44e5d9a9",
   "metadata": {},
   "source": [
    "### Calibration"
   ]
  },
  {
   "cell_type": "markdown",
   "id": "d95c874f-3450-4ee3-8f32-6f14bd6729c5",
   "metadata": {},
   "source": [
    "Now, we can assess whether our model is *reasonably* calibrated by grouping by the average of both `group` and the `true_label` over the `predicted_label`. For this analysis, a calibrated model *means* that the fraction of individuals who have an income of over $50k is the same across both the male and female groups. \n",
    "\n",
    "To do this, I first created a new data frame containing my group (`SEX`), true_label (`y_test`), and my predicted labels (`y_hat`). Then, I mutated the \"group\" column to `Male` (1) and `Female` (2) for visual readability. "
   ]
  },
  {
   "cell_type": "code",
   "execution_count": 59,
   "id": "e8b5eea3-cab5-41fc-ac5b-1662ed42787f",
   "metadata": {},
   "outputs": [
    {
     "data": {
      "text/html": [
       "<div>\n",
       "<style scoped>\n",
       "    .dataframe tbody tr th:only-of-type {\n",
       "        vertical-align: middle;\n",
       "    }\n",
       "\n",
       "    .dataframe tbody tr th {\n",
       "        vertical-align: top;\n",
       "    }\n",
       "\n",
       "    .dataframe thead th {\n",
       "        text-align: right;\n",
       "    }\n",
       "</style>\n",
       "<table border=\"1\" class=\"dataframe\">\n",
       "  <thead>\n",
       "    <tr style=\"text-align: right;\">\n",
       "      <th></th>\n",
       "      <th>group</th>\n",
       "      <th>true_label</th>\n",
       "      <th>predicted_label</th>\n",
       "    </tr>\n",
       "  </thead>\n",
       "  <tbody>\n",
       "    <tr>\n",
       "      <th>0</th>\n",
       "      <td>Female</td>\n",
       "      <td>0</td>\n",
       "      <td>0</td>\n",
       "    </tr>\n",
       "    <tr>\n",
       "      <th>1</th>\n",
       "      <td>Male</td>\n",
       "      <td>0</td>\n",
       "      <td>1</td>\n",
       "    </tr>\n",
       "    <tr>\n",
       "      <th>2</th>\n",
       "      <td>Male</td>\n",
       "      <td>0</td>\n",
       "      <td>0</td>\n",
       "    </tr>\n",
       "    <tr>\n",
       "      <th>3</th>\n",
       "      <td>Male</td>\n",
       "      <td>0</td>\n",
       "      <td>1</td>\n",
       "    </tr>\n",
       "    <tr>\n",
       "      <th>4</th>\n",
       "      <td>Female</td>\n",
       "      <td>1</td>\n",
       "      <td>1</td>\n",
       "    </tr>\n",
       "  </tbody>\n",
       "</table>\n",
       "</div>"
      ],
      "text/plain": [
       "    group  true_label  predicted_label\n",
       "0  Female           0                0\n",
       "1    Male           0                1\n",
       "2    Male           0                0\n",
       "3    Male           0                1\n",
       "4  Female           1                1"
      ]
     },
     "execution_count": 59,
     "metadata": {},
     "output_type": "execute_result"
    }
   ],
   "source": [
    "# Create a dataframe containing the true and predicted labels and groups\n",
    "calib_features = [\"group\", \"true_label\", \"predicted_label\"]\n",
    "calib_df = pd.DataFrame({\"group\": group_test, \"true_label\": y_test, \"predicted_label\": y_hat}, columns = calib_features)\n",
    "\n",
    "# Mutate df group values for readability using .replace()\n",
    "group_test = calib_df[\"group\"].replace([1, 2], [\"Male\", \"Female\"])\n",
    "calib_df = pd.DataFrame({\"group\": group_test, \"true_label\": y_test, \"predicted_label\": y_hat}, columns = calib_features)\n",
    "calib_df.head()"
   ]
  },
  {
   "cell_type": "markdown",
   "id": "bb880580-917e-45fb-8045-7362b5304cc6",
   "metadata": {},
   "source": [
    "After creating the new dataframe, I generated two visualizations: a line plot and bar plot of the mean across the groups' predicted labels. "
   ]
  },
  {
   "cell_type": "code",
   "execution_count": 72,
   "id": "12f3c04b-3ab1-43eb-b735-1f4717c3eb4d",
   "metadata": {},
   "outputs": [
    {
     "data": {
      "image/png": "[encoded data removed]",
      "text/plain": [
       "<Figure size 640x480 with 1 Axes>"
      ]
     },
     "metadata": {},
     "output_type": "display_data"
    }
   ],
   "source": [
    "# Perform calibration test using .groupby() method\n",
    "means = calib_df.groupby([\"group\", \"true_label\"])[\"predicted_label\"].mean().reset_index(name = \"mean\")\n",
    "\n",
    "# Visualizations of \n",
    "g = sns.lineplot(data = means, x = \"true_label\", y = \"mean\", hue = \"group\")\n",
    "\n",
    "plt.title(\"Line Plot of Mean Across Sub-groups Labels\")\n",
    "plt.xlabel(\"True Label\")\n",
    "plt.ylabel(\"Mean\")\n",
    "plt.show()"
   ]
  },
  {
   "cell_type": "code",
   "execution_count": 83,
   "id": "d4c013c6-43b3-4a21-ac10-40ce6db6688a",
   "metadata": {},
   "outputs": [
    {
     "data": {
      "image/png": "[encoded data removed]",
      "text/plain": [
       "<Figure size 640x480 with 1 Axes>"
      ]
     },
     "metadata": {},
     "output_type": "display_data"
    }
   ],
   "source": [
    "p = sns.barplot(data = means, x = \"true_label\", y = \"mean\", hue = \"group\")\n",
    "\n",
    "plt.title(\"Distribution of Mean Across Group Labels\")\n",
    "plt.xlabel(\"True Label\")\n",
    "plt.ylabel(\"Mean\")\n",
    "plt.show()"
   ]
  },
  {
   "cell_type": "markdown",
   "id": "9d0b80ee-d982-4394-82af-4829c75c6f06",
   "metadata": {},
   "source": [
    "From the perspective of calibration, the model might suggest that it is biased in the direction of the `Male` group. Out of  those who were predicted to have an income of over $50k, slightly more male individuals were predicted to have an income over the income  threshold in comparison to `Female` individuals. \n",
    "\n",
    "Additionally, the line plot shows that across the ranges of true labels, male individuals maintain a higher statistical mean and proportion who are predicted to make an income of over $50k than female individuals. Thus, both plots can argue that the model is biased in the direction of the male group.\n",
    "\n",
    "However, since the rates for both groups are sufficiently close, **it may also be correct to suggest that the model appears well-calibrated.**"
   ]
  },
  {
   "cell_type": "markdown",
   "id": "840a86d1-cf72-4bbb-9728-663fe040518c",
   "metadata": {},
   "source": [
    "### Error Rate Balance"
   ]
  },
  {
   "cell_type": "markdown",
   "id": "cb05981a-a7d8-4630-9ffd-aac5d90d355f",
   "metadata": {},
   "source": [
    "In her literature, [Chouldechova](https://via.hypothes.is/https://arxiv.org/pdf/1703.00056.pdf) defines error rate balance to be the case where both groups' false positve and false negative rates are equal. If that requirement is met, then the model satisfies error rate balance.\n",
    "\n",
    "From the previous audit of each group's measures, we found that the FNR and FPR of the `male` and `female` groups are:"
   ]
  },
  {
   "cell_type": "code",
   "execution_count": 79,
   "id": "8415d798-f48c-4092-bc5a-c2052c5f5098",
   "metadata": {},
   "outputs": [
    {
     "data": {
      "text/plain": [
       "(0.2270971302428256, 0.25985221674876846)"
      ]
     },
     "execution_count": 79,
     "metadata": {},
     "output_type": "execute_result"
    }
   ],
   "source": [
    "# Male rates\n",
    "mfpr, mfnr"
   ]
  },
  {
   "cell_type": "code",
   "execution_count": 80,
   "id": "8fdb1f39-d04b-4b53-ac85-3a19635f9a20",
   "metadata": {},
   "outputs": [
    {
     "data": {
      "text/plain": [
       "(0.16052631578947368, 0.2753549695740365)"
      ]
     },
     "execution_count": 80,
     "metadata": {},
     "output_type": "execute_result"
    }
   ],
   "source": [
    "# Female rates\n",
    "ffpr, ffnr"
   ]
  },
  {
   "cell_type": "markdown",
   "id": "4a4cc152-6dc6-4c9d-a10d-1e91136d488c",
   "metadata": {},
   "source": [
    "Observing that our model did not generate equal FNR and FPR for the `male` and `female` groups, **our model does not satisfy error rate balance.**"
   ]
  },
  {
   "cell_type": "markdown",
   "id": "7e73aaaf-9652-4d96-9132-f51066f60a18",
   "metadata": {
    "tags": []
   },
   "source": [
    "### Statistical Parity"
   ]
  },
  {
   "cell_type": "markdown",
   "id": "cdc0c2ac-13f6-4356-90fb-e491c74b7707",
   "metadata": {},
   "source": [
    "Chouldechova defines stastical parity, or predictive parity, to be the case where the `PPV` of both groups are equal. If that requirement is met, then the model satisfies statistical parity."
   ]
  },
  {
   "cell_type": "code",
   "execution_count": 82,
   "id": "8c68bef6-1537-4b4f-b8a2-12ec07135f80",
   "metadata": {},
   "outputs": [
    {
     "data": {
      "text/plain": [
       "(0.7729028697571744, 0.8394736842105263)"
      ]
     },
     "execution_count": 82,
     "metadata": {},
     "output_type": "execute_result"
    }
   ],
   "source": [
    "# Male and female PPV\n",
    "mppv, fppv"
   ]
  },
  {
   "cell_type": "markdown",
   "id": "a2530da3-fcfd-4c18-9dbc-1a7c3ffd58a4",
   "metadata": {},
   "source": [
    "Given the PPV measures calculated before, it is observed that the model did not generate equal `PPV` for both groups as the `female` group had a higher PPV than the `male` group. **Thus, our model does not satisfy statistical parity.**"
   ]
  },
  {
   "cell_type": "markdown",
   "id": "a781fdfe-bd16-4d49-981a-e363d63d2fc2",
   "metadata": {},
   "source": [
    "# Concluding Discussion"
   ]
  },
  {
   "cell_type": "markdown",
   "id": "6b9d14a8-c8dc-478d-940f-3e2df5ca0ff4",
   "metadata": {},
   "source": [
    "After my analysis, I found that most often, male individuals, could stand to benefit from a system that is able to predict whether an individual's income is over $50k. However, even while male, there are intersectional differences as we include *race*; thus, there are benefits to being in a certain racial group (such as White and Asian), and those benefits vary (for the positive and negative) dependent on which group an individual belongs to. Financial institutions such as banks and marketing firms may buy my model for commercial use because they can easily target certain consumers who reach the income threshold and are more willing (due to financial expectation) to buy their products. Governmental programs (e.g. food stamps) may also want to buy this model to determine who gets to reap the benefits of governmental assistance. "
   ]
  },
  {
   "cell_type": "markdown",
   "id": "bcc385c0-18a4-4e83-924c-3d83ff6b2d51",
   "metadata": {},
   "source": [
    "Based on my bias audit, the *impact* of deploying my model for large-scale prediction in commercial or governmental settings is that more male individuals will be classified as having an income of over $50k than female individuals. As a result, male individuals could have better matching rates from commercial or governmental programs than female individuals due to their expected financial status. "
   ]
  },
  {
   "cell_type": "markdown",
   "id": "9787ab9b-390c-4ff2-8029-8fbfb5b19304",
   "metadata": {},
   "source": [
    "Based on my bias audit, my model displays a form of *allocative bias* with how opportunities that arise from governmental programs, or resources such as loans and insurance, are allocated in different proportions across `SEX` groups. Additionally, since the FPR differs across gender groups, the model might possess gender bias in predicting whether an individual in Illinois makes an income of over $50k."
   ]
  },
  {
   "cell_type": "markdown",
   "id": "9b63501c-6dd9-4a32-829b-0a0fd6ca0af7",
   "metadata": {},
   "source": [
    "Beyond bias, there is a concern with individuals who identify as non-binary; the lack of representation and/or data for non-binary folks may greatly affect their accessibility to governmental and commercial programs as only `male` and `female` groups are accounted for in the model. Of course, this is a concern regarding the improvement of the PUMS data collection to diversify the gender selection for respondents. Lastly, it might be interesting to audit our model for racial bias instead of gender and observe if racial biases are also present in our model."
   ]
  }
 ],
 "metadata": {
  "kernelspec": {
   "display_name": "Python [conda env:ml-0451]",
   "language": "python",
   "name": "conda-env-ml-0451-py"
  },
  "language_info": {
   "codemirror_mode": {
    "name": "ipython",
    "version": 3
   },
   "file_extension": ".py",
   "mimetype": "text/x-python",
   "name": "python",
   "nbconvert_exporter": "python",
   "pygments_lexer": "ipython3",
   "version": "3.9.16"
  }
 },
 "nbformat": 4,
 "nbformat_minor": 5
}
