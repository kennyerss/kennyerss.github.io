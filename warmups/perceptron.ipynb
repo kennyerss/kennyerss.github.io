{
 "cells": [
  {
   "cell_type": "code",
   "execution_count": 1,
   "id": "657ea1bb-9ac0-4ba9-92a7-43a5eee21624",
   "metadata": {},
   "outputs": [
    {
     "name": "stdout",
     "output_type": "stream",
     "text": [
      "26\n"
     ]
    },
    {
     "data": {
      "text/plain": [
       "1"
      ]
     },
     "execution_count": 1,
     "metadata": {},
     "output_type": "execute_result"
    }
   ],
   "source": [
    "#### Perceptron\n",
    "\n",
    "# Part 2\n",
    "\n",
    "import numpy as np\n",
    "np.random.seed(1234)\n",
    "\n",
    "def perceptron_classify(w, b, x):\n",
    "    '''\n",
    "    Given 1d numpy arrays w and x and a scalar b\n",
    "    \n",
    "    Returns 0 if the dot product of w and x is less than b\n",
    "    Returns 1 if the dot product of w and x is greater than or equal to b \n",
    "    \n",
    "    ex: w = [1,2,3], b = 6, x = [3,4,5] => returns 0 for values of b less than sum of w@x (26) else 1 \n",
    "    '''\n",
    "    dot_product = w@x # dot product notation\n",
    "    #return 1 if np.sum(dot_product) >= b else 0 \n",
    "    # Optimized version\n",
    "    return (x@w - b > 0) * 1 \n",
    "\n",
    "n = 5\n",
    "A = np.random.randint(1, 10, size = (n, n))\n",
    "B = np.random.randint(1, 5, size = n)\n",
    "b = 24\n",
    "\n",
    "C = np.array([1,2,3])\n",
    "D = np.array([3,4,5])\n",
    "print(np.sum(C@D))\n",
    "perceptron_classify(C, b, D)\n"
   ]
  },
  {
   "cell_type": "code",
   "execution_count": null,
   "id": "89a30baa-68c2-4753-8827-98905a5a23e1",
   "metadata": {},
   "outputs": [],
   "source": []
  },
  {
   "cell_type": "code",
   "execution_count": null,
   "id": "98726343-777f-49f3-909f-a61da88ae803",
   "metadata": {},
   "outputs": [],
   "source": []
  }
 ],
 "metadata": {
  "kernelspec": {
   "display_name": "Python [conda env:ml-0451]",
   "language": "python",
   "name": "conda-env-ml-0451-py"
  },
  "language_info": {
   "codemirror_mode": {
    "name": "ipython",
    "version": 3
   },
   "file_extension": ".py",
   "mimetype": "text/x-python",
   "name": "python",
   "nbconvert_exporter": "python",
   "pygments_lexer": "ipython3",
   "version": "3.9.16"
  }
 },
 "nbformat": 4,
 "nbformat_minor": 5
}
