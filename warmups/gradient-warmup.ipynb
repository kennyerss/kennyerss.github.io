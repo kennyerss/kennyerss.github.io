{
 "cells": [
  {
   "cell_type": "code",
   "execution_count": 27,
   "id": "b952c43d-0fbe-43c7-8468-26bee51e58bb",
   "metadata": {},
   "outputs": [
    {
     "name": "stdout",
     "output_type": "stream",
     "text": [
      "Random guess 1: [0.69646919 0.28613933]\n",
      "Random guess 2: [0.22685145 0.55131477]\n",
      "Minimizer found\n",
      "Found minimizer 1: [4.10329856e-01 5.22073246e-09]\n",
      "Found minimizer 2: [-3.24463306e-01  9.99748784e-09]\n"
     ]
    }
   ],
   "source": [
    "import numpy as np \n",
    "np.random.seed(123)\n",
    "\n",
    "def f(w):\n",
    "    return np.sin(w[0]*w[1])\n",
    "\n",
    "\n",
    "def gradient(w_0):\n",
    "    # Split guess vector into two coords\n",
    "    x1 = w_0[0]\n",
    "    x2 = w_0[1]\n",
    "    \n",
    "    # Returns the gradient of function\n",
    "    first_gradient = x2 * np.cos(x1 * x2)\n",
    "    second_gradient = x1 * np.cos(x1 * x2)\n",
    "    return np.array(first_gradient, second_gradient)\n",
    "\n",
    "alpha = 0.001\n",
    "max_steps = 100000\n",
    "\n",
    "# Initialize random guess\n",
    "w_0 = np.random.rand(2)\n",
    "w_1 = np.random.rand(2)\n",
    "\n",
    "print(\"Random guess 1: \" + str(w_0))\n",
    "print(\"Random guess 2: \" + str(w_1))\n",
    "\n",
    "\n",
    "for _ in range(max_steps):\n",
    "\n",
    "    # Compute gradient at current location\n",
    "    grdnt = gradient(w_0)\n",
    "    grdnt_2 = gradient(w_1)\n",
    "    \n",
    "    if np.isclose(grdnt, 0) and np.isclose(grdnt_2, 0):\n",
    "        print(\"Minimizer found\")\n",
    "        break\n",
    "        \n",
    "    # Take a step down the gradient\n",
    "    w_0 -= alpha * grdnt\n",
    "    w_1 -= alpha * grdnt_2\n",
    "    \n",
    "print(\"Found minimizer 1: \" + str(w_0))\n",
    "print(\"Found minimizer 2: \" + str(w_1))"
   ]
  },
  {
   "cell_type": "code",
   "execution_count": null,
   "id": "84052be5-2386-4622-844b-05c250d5ba70",
   "metadata": {},
   "outputs": [],
   "source": []
  }
 ],
 "metadata": {
  "kernelspec": {
   "display_name": "Python [conda env:ml-0451]",
   "language": "python",
   "name": "conda-env-ml-0451-py"
  },
  "language_info": {
   "codemirror_mode": {
    "name": "ipython",
    "version": 3
   },
   "file_extension": ".py",
   "mimetype": "text/x-python",
   "name": "python",
   "nbconvert_exporter": "python",
   "pygments_lexer": "ipython3",
   "version": "3.9.16"
  }
 },
 "nbformat": 4,
 "nbformat_minor": 5
}
